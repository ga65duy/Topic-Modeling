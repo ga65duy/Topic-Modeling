{
 "cells": [
  {
   "cell_type": "code",
   "execution_count": 1,
   "metadata": {},
   "outputs": [
    {
     "name": "stderr",
     "output_type": "stream",
     "text": [
      "C:\\Users\\Maria\\Anaconda3\\lib\\site-packages\\gensim\\utils.py:1197: UserWarning: detected Windows; aliasing chunkize to chunkize_serial\n",
      "  warnings.warn(\"detected Windows; aliasing chunkize to chunkize_serial\")\n"
     ]
    }
   ],
   "source": [
    "import sys\n",
    "sys.path.append('../..')\n",
    "import src.Intern_Consistency.lda_intern_consistency as ic\n",
    "import src.helper as h\n",
    "import pandas as pd\n",
    "import numpy as np\n",
    "import matplotlib.pyplot as plt\n",
    "from scipy.stats import pearsonr as pcoe"
   ]
  },
  {
   "cell_type": "markdown",
   "metadata": {},
   "source": [
    "### Plot alphas for topic model with 120 topics"
   ]
  },
  {
   "cell_type": "code",
   "execution_count": 2,
   "metadata": {},
   "outputs": [
    {
     "ename": "Exception",
     "evalue": "No alphas for model nmf",
     "output_type": "error",
     "traceback": [
      "\u001b[1;31m---------------------------------------------------------------------------\u001b[0m",
      "\u001b[1;31mException\u001b[0m                                 Traceback (most recent call last)",
      "\u001b[1;32m<ipython-input-2-bdd9b58e5da4>\u001b[0m in \u001b[0;36m<module>\u001b[1;34m()\u001b[0m\n\u001b[0;32m      1\u001b[0m \u001b[0mt120\u001b[0m \u001b[1;33m=\u001b[0m \u001b[1;34m\"intern_consistency/topic_models/nmf/nmf_english_editorial_comments_120.pkl\"\u001b[0m\u001b[1;33m\u001b[0m\u001b[0m\n\u001b[1;32m----> 2\u001b[1;33m \u001b[0mic\u001b[0m\u001b[1;33m.\u001b[0m\u001b[0mplot_alphas_per_model\u001b[0m\u001b[1;33m(\u001b[0m\u001b[0mt120\u001b[0m\u001b[1;33m)\u001b[0m\u001b[1;33m\u001b[0m\u001b[0m\n\u001b[0m\u001b[0;32m      3\u001b[0m \u001b[0mic\u001b[0m\u001b[1;33m.\u001b[0m\u001b[0mplot_alphas_per_model\u001b[0m\u001b[1;33m(\u001b[0m\u001b[0mt120\u001b[0m\u001b[1;33m,\u001b[0m \u001b[1;32mFalse\u001b[0m\u001b[1;33m)\u001b[0m\u001b[1;33m\u001b[0m\u001b[0m\n",
      "\u001b[1;32mD:\\Bachelorarbeit\\Projekte\\tm-maria\\src\\Intern_Consistency\\lda_intern_consistency.py\u001b[0m in \u001b[0;36mplot_alphas_per_model\u001b[1;34m(model_pkl, sorted)\u001b[0m\n\u001b[0;32m     35\u001b[0m     \u001b[1;33m:\u001b[0m\u001b[1;32mreturn\u001b[0m\u001b[1;33m:\u001b[0m \u001b[0ma\u001b[0m \u001b[0mplot\u001b[0m \u001b[1;32mwith\u001b[0m \u001b[0mthe\u001b[0m \u001b[0mtopics\u001b[0m \u001b[1;32mand\u001b[0m \u001b[0mtheir\u001b[0m \u001b[0malphas\u001b[0m\u001b[1;33m\u001b[0m\u001b[0m\n\u001b[0;32m     36\u001b[0m     \"\"\"\n\u001b[1;32m---> 37\u001b[1;33m     \u001b[0mtm\u001b[0m\u001b[1;33m,\u001b[0m\u001b[0malphas\u001b[0m \u001b[1;33m=\u001b[0m \u001b[0mget_alphas\u001b[0m\u001b[1;33m(\u001b[0m\u001b[0mmodel_pkl\u001b[0m\u001b[1;33m)\u001b[0m\u001b[1;33m\u001b[0m\u001b[0m\n\u001b[0m\u001b[0;32m     38\u001b[0m \u001b[1;33m\u001b[0m\u001b[0m\n\u001b[0;32m     39\u001b[0m     \u001b[0mplt\u001b[0m\u001b[1;33m.\u001b[0m\u001b[0mtitle\u001b[0m\u001b[1;33m(\u001b[0m\u001b[1;34m\"Alphas for {}\"\u001b[0m\u001b[1;33m.\u001b[0m\u001b[0mformat\u001b[0m\u001b[1;33m(\u001b[0m\u001b[0mmodel_pkl\u001b[0m\u001b[1;33m[\u001b[0m\u001b[1;33m:\u001b[0m\u001b[1;33m(\u001b[0m\u001b[0mlen\u001b[0m\u001b[1;33m(\u001b[0m\u001b[0mmodel_pkl\u001b[0m\u001b[1;33m)\u001b[0m\u001b[1;33m)\u001b[0m \u001b[1;33m-\u001b[0m \u001b[1;36m4\u001b[0m\u001b[1;33m]\u001b[0m\u001b[1;33m)\u001b[0m\u001b[1;33m)\u001b[0m\u001b[1;33m\u001b[0m\u001b[0m\n",
      "\u001b[1;32mD:\\Bachelorarbeit\\Projekte\\tm-maria\\src\\Intern_Consistency\\lda_intern_consistency.py\u001b[0m in \u001b[0;36mget_alphas\u001b[1;34m(model_pkl)\u001b[0m\n\u001b[0;32m     20\u001b[0m \u001b[1;33m\u001b[0m\u001b[0m\n\u001b[0;32m     21\u001b[0m     \u001b[1;32mif\u001b[0m \u001b[1;34m\"lda\"\u001b[0m \u001b[1;32mnot\u001b[0m \u001b[1;32min\u001b[0m \u001b[0mmodel_pkl\u001b[0m\u001b[1;33m:\u001b[0m\u001b[1;33m\u001b[0m\u001b[0m\n\u001b[1;32m---> 22\u001b[1;33m         \u001b[1;32mraise\u001b[0m \u001b[0mException\u001b[0m\u001b[1;33m(\u001b[0m\u001b[1;34m\"No alphas for model nmf\"\u001b[0m\u001b[1;33m)\u001b[0m\u001b[1;33m\u001b[0m\u001b[0m\n\u001b[0m\u001b[0;32m     23\u001b[0m     \u001b[1;32melse\u001b[0m\u001b[1;33m:\u001b[0m\u001b[1;33m\u001b[0m\u001b[0m\n\u001b[0;32m     24\u001b[0m         \u001b[0mtopicmodel\u001b[0m \u001b[1;33m=\u001b[0m \u001b[0mTopicModel\u001b[0m\u001b[1;33m.\u001b[0m\u001b[0mload\u001b[0m\u001b[1;33m(\u001b[0m\u001b[0mmodel_pkl\u001b[0m\u001b[1;33m)\u001b[0m\u001b[1;33m\u001b[0m\u001b[0m\n",
      "\u001b[1;31mException\u001b[0m: No alphas for model nmf"
     ]
    }
   ],
   "source": [
    "t120 = \"intern_consistency/topic_models/nmf/nmf_english_editorial_comments_120.pkl\"\n",
    "ic.plot_alphas_per_model(t120)\n",
    "ic.plot_alphas_per_model(t120, False)"
   ]
  },
  {
   "cell_type": "markdown",
   "metadata": {},
   "source": [
    "#### show topic alpha matrix"
   ]
  },
  {
   "cell_type": "code",
   "execution_count": null,
   "metadata": {},
   "outputs": [],
   "source": [
    "tm120,alphas_120 = ic.get_alphas(t120)\n",
    "ranked120 = tm120.get_topics_ranked(alphas_120)\n",
    "display(ranked120)"
   ]
  },
  {
   "cell_type": "markdown",
   "metadata": {},
   "source": [
    "### Plot alphas for topic model with 170 topics"
   ]
  },
  {
   "cell_type": "code",
   "execution_count": null,
   "metadata": {
    "scrolled": true
   },
   "outputs": [],
   "source": [
    "t = \"topic_models/nmf/ENEDCO_nmf_english_editorial_comments_170.pkl\"\n",
    "ic.plot_alphas_per_model(t)\n",
    "ic.plot_alphas_per_model(t,False)"
   ]
  },
  {
   "cell_type": "markdown",
   "metadata": {},
   "source": [
    "#### show alpha topic matrix"
   ]
  },
  {
   "cell_type": "code",
   "execution_count": null,
   "metadata": {},
   "outputs": [],
   "source": [
    "tm,alphas = ic.get_alphas(t)\n",
    "ranked = tm.get_topics_ranked(alphas)\n",
    "display(ranked)"
   ]
  },
  {
   "cell_type": "markdown",
   "metadata": {},
   "source": [
    "### Plot alphas for topic model with 220 topics"
   ]
  },
  {
   "cell_type": "code",
   "execution_count": null,
   "metadata": {
    "scrolled": true
   },
   "outputs": [],
   "source": [
    "t220 = \"intern_consistency/topic_models/nmf/nmf_english_editorial_comments_220.pkl\"\n",
    "ic.plot_alphas_per_model(t220)\n",
    "ic.plot_alphas_per_model(t220,False)"
   ]
  },
  {
   "cell_type": "markdown",
   "metadata": {},
   "source": [
    "#### show alpha topic matrix"
   ]
  },
  {
   "cell_type": "code",
   "execution_count": null,
   "metadata": {},
   "outputs": [],
   "source": [
    "tm220,alphas220 = ic.get_alphas(t220)\n",
    "ranked220 = tm180.get_topics_ranked(alphas220)\n",
    "display(ranked220)"
   ]
  },
  {
   "cell_type": "markdown",
   "metadata": {},
   "source": [
    "### Plot entropy"
   ]
  },
  {
   "cell_type": "code",
   "execution_count": null,
   "metadata": {
    "scrolled": true
   },
   "outputs": [],
   "source": [
    "ic.plot_entropy(t120,True)\n",
    "ic.plot_entropy(t120, False)"
   ]
  },
  {
   "cell_type": "code",
   "execution_count": null,
   "metadata": {
    "scrolled": true
   },
   "outputs": [],
   "source": [
    "ic.plot_entropy(t,True)\n",
    "ic.plot_entropy(t, False)"
   ]
  },
  {
   "cell_type": "code",
   "execution_count": null,
   "metadata": {
    "scrolled": true
   },
   "outputs": [],
   "source": [
    "ic.plot_entropy(t220,True)\n",
    "ic.plot_entropy(t220, False)"
   ]
  },
  {
   "cell_type": "markdown",
   "metadata": {},
   "source": [
    "### Plot entropy and alpha"
   ]
  },
  {
   "cell_type": "markdown",
   "metadata": {},
   "source": [
    "#### Plot for model with 120 topics"
   ]
  },
  {
   "cell_type": "code",
   "execution_count": null,
   "metadata": {},
   "outputs": [],
   "source": [
    "plt.title(\"Alphas and entropy\")\n",
    "plt.xlabel(\"Alpha\")\n",
    "plt.ylabel('Entropy')\n",
    "\n",
    "e120 = ic.get_entropy(t120)\n",
    "fit = np.polyfit(alphas_120,e120,1)\n",
    "fit_fn = np.poly1d(fit) \n",
    "print(fit_fn)\n",
    "\n",
    "plt.plot(alphas_120,e120, 'yo', alphas_120, fit_fn(alphas_120), \"black\")\n",
    "plt.plot(alphas_120,e120,\"ro\")"
   ]
  },
  {
   "cell_type": "markdown",
   "metadata": {},
   "source": [
    "##### Pearsons correlation"
   ]
  },
  {
   "cell_type": "code",
   "execution_count": null,
   "metadata": {},
   "outputs": [],
   "source": [
    "pt120 = pcoe(alphas_120,e120)\n",
    "print(pt120)"
   ]
  },
  {
   "cell_type": "markdown",
   "metadata": {},
   "source": [
    "#### Plot for model with 170 topics"
   ]
  },
  {
   "cell_type": "code",
   "execution_count": null,
   "metadata": {
    "scrolled": true
   },
   "outputs": [],
   "source": [
    "plt.title(\"Alphas and entropy\")\n",
    "plt.xlabel(\"Alpha\")\n",
    "plt.ylabel('Entropy')\n",
    "e170 = ic.get_entropy(t)\n",
    "fit = np.polyfit(alphas,e170,1)\n",
    "fit_fn = np.poly1d(fit) \n",
    "print(fit_fn)\n",
    "\n",
    "plt.plot(alphas,e170, 'yo', alphas, fit_fn(alphas), \"black\")\n",
    "plt.plot(alphas,e170 ,\"ro\")"
   ]
  },
  {
   "cell_type": "markdown",
   "metadata": {},
   "source": [
    "##### Pearson Correlation for "
   ]
  },
  {
   "cell_type": "code",
   "execution_count": null,
   "metadata": {},
   "outputs": [],
   "source": [
    "pt = pcoe(alphas,e170)\n",
    "print(pt)"
   ]
  },
  {
   "cell_type": "markdown",
   "metadata": {},
   "source": [
    "#### Plot for model with 220 topics"
   ]
  },
  {
   "cell_type": "code",
   "execution_count": null,
   "metadata": {},
   "outputs": [],
   "source": [
    "plt.title(\"Alphas and entropy\")\n",
    "plt.xlabel(\"Alpha\")\n",
    "plt.ylabel('Entropy')\n",
    "\n",
    "e220 = ic.get_entropy(t220)\n",
    "fit = np.polyfit(alphas220,e220,1)\n",
    "fit_fn = np.poly1d(fit) \n",
    "print(fit_fn)\n",
    "\n",
    "plt.plot(alphas220, e220, 'yo', alphas220, fit_fn(alphas220), \"black\")\n",
    "plt.plot(alphas220,e220 ,\"ro\")"
   ]
  },
  {
   "cell_type": "markdown",
   "metadata": {},
   "source": [
    "##### Pearson correlation"
   ]
  },
  {
   "cell_type": "code",
   "execution_count": null,
   "metadata": {},
   "outputs": [],
   "source": [
    "pt220 = pcoe(alphas220,e220)\n",
    "print(pt220)"
   ]
  },
  {
   "cell_type": "markdown",
   "metadata": {},
   "source": [
    "### Save alphas in an excel"
   ]
  },
  {
   "cell_type": "code",
   "execution_count": null,
   "metadata": {},
   "outputs": [],
   "source": [
    "#writer = pd.ExcelWriter('Alphas_for_German_articles.xlsx')\n",
    "#ranked140.to_excel(writer,\"140 topics\")\n",
    "#ranked.to_excel(writer,\"190 topics\")\n",
    "#ranked240.to_excel(writer,\"240 topics\")\n",
    "#writer.save()"
   ]
  },
  {
   "cell_type": "markdown",
   "metadata": {},
   "source": [
    "### Calculate Coherence"
   ]
  },
  {
   "cell_type": "code",
   "execution_count": null,
   "metadata": {
    "scrolled": true
   },
   "outputs": [],
   "source": [
    "c120 = tm120.get_topic_coherence(per_topic= True)\n",
    "rankedc120 = tm120.get_topics_ranked(c120)\n",
    "display(rankedc120)"
   ]
  },
  {
   "cell_type": "code",
   "execution_count": null,
   "metadata": {},
   "outputs": [],
   "source": [
    "c170 = tm.get_topic_coherence(per_topic= True)\n",
    "rankedc170 = tm.get_topics_ranked(c170)"
   ]
  },
  {
   "cell_type": "code",
   "execution_count": null,
   "metadata": {},
   "outputs": [],
   "source": [
    "c220 = tm220.get_topic_coherence(per_topic= True)\n",
    "rankedc220 = tm220.get_topics_ranked(c220)"
   ]
  },
  {
   "cell_type": "markdown",
   "metadata": {},
   "source": [
    "### Save coherence in an excel"
   ]
  },
  {
   "cell_type": "code",
   "execution_count": null,
   "metadata": {},
   "outputs": [],
   "source": [
    "#writer = pd.ExcelWriter('Coherence_for_German_articles.xlsx')\n",
    "#rankedc120.to_excel(writer,\"120 topics\")\n",
    "#rankedc170.to_excel(writer,\"170 topics\")\n",
    "#rankedc220.to_excel(writer,\"220 topics\")\n",
    "#writer.save()"
   ]
  },
  {
   "cell_type": "markdown",
   "metadata": {},
   "source": [
    "### Print similarity between each topic in  the same Topic Model"
   ]
  },
  {
   "cell_type": "code",
   "execution_count": null,
   "metadata": {
    "scrolled": true
   },
   "outputs": [],
   "source": [
    "df120 = ic.plot_sim_of_phi_matrix(t120)\n",
    "display(df120)"
   ]
  },
  {
   "cell_type": "code",
   "execution_count": null,
   "metadata": {},
   "outputs": [],
   "source": [
    "df = ic.plot_sim_of_phi_matrix(t)\n",
    "display(df)"
   ]
  },
  {
   "cell_type": "code",
   "execution_count": null,
   "metadata": {},
   "outputs": [],
   "source": [
    "df170 = ic.plot_sim_of_phi_matrix(t)\n",
    "display(df170)"
   ]
  },
  {
   "cell_type": "markdown",
   "metadata": {},
   "source": [
    "#### Print similaritys sorted descending"
   ]
  },
  {
   "cell_type": "code",
   "execution_count": null,
   "metadata": {
    "scrolled": true
   },
   "outputs": [],
   "source": [
    "df120_sor = ic.plot_sim_of_phi_matrix(t120, sorted = False)\n",
    "display(df120_sor)"
   ]
  },
  {
   "cell_type": "code",
   "execution_count": null,
   "metadata": {},
   "outputs": [],
   "source": [
    "df_sor = ic.plot_sim_of_phi_matrix(t, sorted = False)\n",
    "display(df_sor)"
   ]
  },
  {
   "cell_type": "code",
   "execution_count": null,
   "metadata": {},
   "outputs": [],
   "source": [
    "df220_sor = ic.plot_sim_of_phi_matrix(t220, sorted = False)\n",
    "display(df220_sor)"
   ]
  },
  {
   "cell_type": "markdown",
   "metadata": {},
   "source": [
    "### Plot similarity between two topic models"
   ]
  },
  {
   "cell_type": "code",
   "execution_count": null,
   "metadata": {
    "scrolled": true
   },
   "outputs": [],
   "source": [
    "df120_t = ic.plot_sim_of_phi2_matrix(t,t120, sorted = False)\n",
    "display(df120_t)"
   ]
  },
  {
   "cell_type": "code",
   "execution_count": null,
   "metadata": {
    "scrolled": true
   },
   "outputs": [],
   "source": [
    "df120_220 = ic.plot_sim_of_phi2_matrix(t120,t220, sorted = False)\n",
    "display(df120_220)"
   ]
  },
  {
   "cell_type": "code",
   "execution_count": null,
   "metadata": {},
   "outputs": [],
   "source": [
    "df170_220 = ic.plot_sim_of_phi2_matrix(t,t220, sorted = False)\n",
    "display(df170_220)"
   ]
  },
  {
   "cell_type": "markdown",
   "metadata": {},
   "source": [
    "#### Sorted descending"
   ]
  },
  {
   "cell_type": "code",
   "execution_count": null,
   "metadata": {},
   "outputs": [],
   "source": [
    "df120t_sor = ic.plot_sim_of_phi2_matrix(t120,t, axis = \"row\")\n",
    "display(df120t_sor)"
   ]
  },
  {
   "cell_type": "code",
   "execution_count": null,
   "metadata": {
    "scrolled": true
   },
   "outputs": [],
   "source": [
    "df120t_sor = ic.plot_sim_of_phi2_matrix(t120,t, axis = \"column\")\n",
    "display(df120t_sor)"
   ]
  },
  {
   "cell_type": "code",
   "execution_count": null,
   "metadata": {},
   "outputs": [],
   "source": [
    "df120220_sor = ic.plot_sim_of_phi2_matrix(t120,t220)\n",
    "display(df120220_sor)"
   ]
  },
  {
   "cell_type": "code",
   "execution_count": null,
   "metadata": {},
   "outputs": [],
   "source": [
    "df_t220_sor = ic.plot_sim_of_phi2_matrix(t,t220)\n",
    "display(df_t220_sor)"
   ]
  },
  {
   "cell_type": "markdown",
   "metadata": {},
   "source": [
    "### Save similarities betweeen topic models in excel"
   ]
  },
  {
   "cell_type": "code",
   "execution_count": null,
   "metadata": {},
   "outputs": [],
   "source": [
    "#writer = pd.ExcelWriter('Similarities betweeen topic models.xlsx')\n",
    "#df120t_sor.to_excel(writer,\"t120 with t170\")\n",
    "#df120220_sor.to_excel(writer,\"t120 with t220\")\n",
    "#df_t220_sor.to_excel(writer,\"t120 with 220\")\n",
    "#writer.save()"
   ]
  },
  {
   "cell_type": "markdown",
   "metadata": {},
   "source": [
    "### Save similarities in a topic model"
   ]
  },
  {
   "cell_type": "code",
   "execution_count": null,
   "metadata": {},
   "outputs": [],
   "source": [
    "#writer = pd.ExcelWriter('Similarities in topic models.xlsx')\n",
    "#df.to_excel(writer,\"t170\")\n",
    "#df120.to_excel(writer,\"t120\")\n",
    "#df220.to_excel(writer,\"t220\")\n",
    "#writer.save()"
   ]
  },
  {
   "cell_type": "code",
   "execution_count": null,
   "metadata": {},
   "outputs": [],
   "source": [
    "#writer = pd.ExcelWriter('Topics.xlsx')\n",
    "#tm.get_topics_dataframe().to_excel(writer,\"t170\")\n",
    "#tm120.get_topics_dataframe().to_excel(writer,\"t120\")\n",
    "#tm220.get_topics_dataframe().to_excel(writer,\"t220\")\n",
    "#writer.save()"
   ]
  },
  {
   "cell_type": "code",
   "execution_count": null,
   "metadata": {},
   "outputs": [],
   "source": [
    "#### Heatmap"
   ]
  },
  {
   "cell_type": "code",
   "execution_count": null,
   "metadata": {},
   "outputs": [],
   "source": [
    "import seaborn as sns"
   ]
  },
  {
   "cell_type": "code",
   "execution_count": null,
   "metadata": {
    "scrolled": false
   },
   "outputs": [],
   "source": [
    "df120_sor.values[[np.arange(len(df120_sor))]*2] = (df120_sor.as_matrix().min())\n",
    "hmap120 = sns.heatmap(df120_sor, cmap = \"Reds\")"
   ]
  },
  {
   "cell_type": "code",
   "execution_count": null,
   "metadata": {},
   "outputs": [],
   "source": [
    "plt.figure(figsize=(100,100))\n",
    "tri = np.triu(df120_sor,k = 0)\n",
    "with sns.axes_style(\"white\"):\n",
    "    ht120 =sns.heatmap(df120_sor, mask=tri, square=True,cmap = sns.color_palette(\"Reds\", n_colors=7), annot = True, fmt=\".1f\",annot_kws={\"size\": 10})"
   ]
  },
  {
   "cell_type": "code",
   "execution_count": null,
   "metadata": {},
   "outputs": [],
   "source": [
    "plt.figure(figsize=(100,100))\n",
    "tri = np.triu(df_sor,k = 0)\n",
    "with sns.axes_style(\"white\"):\n",
    "    ht =sns.heatmap(df_sor, mask=tri, square=True,cmap = sns.color_palette(\"Reds\", n_colors=7), annot = True, fmt=\".1f\",annot_kws={\"size\": 10})"
   ]
  },
  {
   "cell_type": "code",
   "execution_count": null,
   "metadata": {},
   "outputs": [],
   "source": [
    "plt.figure(figsize=(100,100))\n",
    "tri = np.triu(df220_sor,k = 0)\n",
    "with sns.axes_style(\"white\"):\n",
    "    ht220 =sns.heatmap(df220_sor, mask=tri, square=True,cmap = sns.color_palette(\"Reds\", n_colors=7), annot = True, fmt=\".1f\",annot_kws={\"size\": 10})"
   ]
  },
  {
   "cell_type": "code",
   "execution_count": null,
   "metadata": {},
   "outputs": [],
   "source": [
    "plt.figure(figsize=(80,80))\n",
    "hm120_t=sns.heatmap(df120_t, cmap = \"Reds\",annot = True, fmt=\".1f\")"
   ]
  },
  {
   "cell_type": "code",
   "execution_count": null,
   "metadata": {},
   "outputs": [],
   "source": [
    "plt.figure(figsize=(80,80))\n",
    "hm120_220=sns.heatmap(df120_220, cmap = \"Reds\",annot = True, fmt=\".1f\")"
   ]
  },
  {
   "cell_type": "code",
   "execution_count": null,
   "metadata": {
    "scrolled": true
   },
   "outputs": [],
   "source": [
    "plt.figure(figsize=(80,80))\n",
    "hm170_220=sns.heatmap(df170_220, cmap = \"Reds\",annot = True, fmt=\".1f\")"
   ]
  }
 ],
 "metadata": {
  "kernelspec": {
   "display_name": "Python 3",
   "language": "python",
   "name": "python3"
  },
  "language_info": {
   "codemirror_mode": {
    "name": "ipython",
    "version": 3
   },
   "file_extension": ".py",
   "mimetype": "text/x-python",
   "name": "python",
   "nbconvert_exporter": "python",
   "pygments_lexer": "ipython3",
   "version": "3.6.4"
  }
 },
 "nbformat": 4,
 "nbformat_minor": 2
}
