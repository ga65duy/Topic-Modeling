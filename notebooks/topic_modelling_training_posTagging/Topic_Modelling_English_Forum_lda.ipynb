{
 "cells": [
  {
   "cell_type": "code",
   "execution_count": 1,
   "metadata": {},
   "outputs": [
    {
     "name": "stderr",
     "output_type": "stream",
     "text": [
      "C:\\Users\\Maria\\Anaconda3\\lib\\site-packages\\gensim\\utils.py:1197: UserWarning: detected Windows; aliasing chunkize to chunkize_serial\n",
      "  warnings.warn(\"detected Windows; aliasing chunkize to chunkize_serial\")\n"
     ]
    }
   ],
   "source": [
    "import sys\n",
    "sys.path.append('../..')\n",
    "import src.data.data_loader as dl\n",
    "from src.features.vectorizer import Vectorizer\n",
    "from src.models.topic_models import TopicModel\n",
    "import pandas as pd\n",
    "import sklearn.utils as skutil\n",
    "pd.set_option('display.max_rows', None)"
   ]
  },
  {
   "cell_type": "code",
   "execution_count": 2,
   "metadata": {},
   "outputs": [],
   "source": [
    "# Data \n",
    "language = 'english'\n",
    "typex = 'forum'\n",
    "\n",
    "# Vectorization\n",
    "min_df = 0.005\n",
    "max_df = 0.9\n",
    "\n",
    "# Topic Modeling\n",
    "algorithm = 'lda'\n",
    "num_topics = 110\n",
    "\n",
    "train_percentage = 0.9\n",
    "alpha = 'auto'\n",
    "eta = 0.01\n",
    "iterations = 200\n",
    "passes = 60\n",
    "chunksize = 5000\n",
    "kappa = 0\n",
    "tau_0 = 0"
   ]
  },
  {
   "cell_type": "code",
   "execution_count": 3,
   "metadata": {},
   "outputs": [
    {
     "ename": "KeyError",
     "evalue": "'article_title_tokenized'",
     "output_type": "error",
     "traceback": [
      "\u001b[1;31m---------------------------------------------------------------------------\u001b[0m",
      "\u001b[1;31mKeyError\u001b[0m                                  Traceback (most recent call last)",
      "\u001b[1;32m<ipython-input-3-cb34d4db05fd>\u001b[0m in \u001b[0;36m<module>\u001b[1;34m()\u001b[0m\n\u001b[1;32m----> 1\u001b[1;33m \u001b[0mdata\u001b[0m \u001b[1;33m=\u001b[0m \u001b[0mdl\u001b[0m\u001b[1;33m.\u001b[0m\u001b[0mget_forum_threads_by_language\u001b[0m\u001b[1;33m(\u001b[0m\u001b[0mlanguage\u001b[0m\u001b[1;33m,\u001b[0m \u001b[0mtypex\u001b[0m\u001b[1;33m,\u001b[0m\u001b[0mkind\u001b[0m \u001b[1;33m=\u001b[0m \u001b[1;34m\"tagged\"\u001b[0m\u001b[1;33m)\u001b[0m\u001b[1;33m\u001b[0m\u001b[0m\n\u001b[0m\u001b[0;32m      2\u001b[0m \u001b[0mtexts\u001b[0m \u001b[1;33m=\u001b[0m \u001b[0mdata\u001b[0m\u001b[1;33m[\u001b[0m\u001b[1;34m'thread_texts'\u001b[0m\u001b[1;33m]\u001b[0m\u001b[1;33m\u001b[0m\u001b[0m\n\u001b[0;32m      3\u001b[0m \u001b[1;33m\u001b[0m\u001b[0m\n\u001b[0;32m      4\u001b[0m \u001b[1;32mdef\u001b[0m \u001b[0mmin_length\u001b[0m \u001b[1;33m(\u001b[0m\u001b[0mtexts\u001b[0m\u001b[1;33m,\u001b[0m\u001b[0mmin_characters\u001b[0m\u001b[1;33m)\u001b[0m\u001b[1;33m:\u001b[0m\u001b[1;33m\u001b[0m\u001b[0m\n\u001b[0;32m      5\u001b[0m     \u001b[0mneu\u001b[0m \u001b[1;33m=\u001b[0m \u001b[1;33m[\u001b[0m\u001b[1;33m]\u001b[0m\u001b[1;33m\u001b[0m\u001b[0m\n",
      "\u001b[1;32mD:\\Bachelorarbeit\\Projekte\\tm-maria\\src\\data\\data_loader.py\u001b[0m in \u001b[0;36mget_forum_threads_by_language\u001b[1;34m(language, metadata, kind)\u001b[0m\n\u001b[0;32m    229\u001b[0m         \u001b[1;32mreturn\u001b[0m \u001b[0mget_forum_threads_by_sources\u001b[0m\u001b[1;33m(\u001b[0m\u001b[0mgerman_types\u001b[0m\u001b[1;33m[\u001b[0m\u001b[1;34m'forum'\u001b[0m\u001b[1;33m]\u001b[0m\u001b[1;33m,\u001b[0m \u001b[0mmetadata\u001b[0m\u001b[1;33m,\u001b[0m \u001b[0mkind\u001b[0m\u001b[1;33m)\u001b[0m\u001b[1;33m\u001b[0m\u001b[0m\n\u001b[0;32m    230\u001b[0m     \u001b[1;32melif\u001b[0m \u001b[0mlanguage\u001b[0m \u001b[1;33m==\u001b[0m \u001b[1;34m'english'\u001b[0m\u001b[1;33m:\u001b[0m\u001b[1;33m\u001b[0m\u001b[0m\n\u001b[1;32m--> 231\u001b[1;33m         \u001b[1;32mreturn\u001b[0m \u001b[0mget_forum_threads_by_sources\u001b[0m\u001b[1;33m(\u001b[0m\u001b[0menglish_types\u001b[0m\u001b[1;33m[\u001b[0m\u001b[1;34m'forum'\u001b[0m\u001b[1;33m]\u001b[0m\u001b[1;33m,\u001b[0m \u001b[0mmetadata\u001b[0m\u001b[1;33m,\u001b[0m \u001b[0mkind\u001b[0m\u001b[1;33m)\u001b[0m\u001b[1;33m\u001b[0m\u001b[0m\n\u001b[0m\u001b[0;32m    232\u001b[0m     \u001b[1;32melse\u001b[0m\u001b[1;33m:\u001b[0m\u001b[1;33m\u001b[0m\u001b[0m\n\u001b[0;32m    233\u001b[0m         \u001b[1;32mraise\u001b[0m \u001b[0mException\u001b[0m\u001b[1;33m(\u001b[0m\u001b[1;34m'Language {} not supported.'\u001b[0m\u001b[1;33m.\u001b[0m\u001b[0mformat\u001b[0m\u001b[1;33m(\u001b[0m\u001b[0mlanguage\u001b[0m\u001b[1;33m)\u001b[0m\u001b[1;33m)\u001b[0m\u001b[1;33m\u001b[0m\u001b[0m\n",
      "\u001b[1;32mD:\\Bachelorarbeit\\Projekte\\tm-maria\\src\\data\\data_loader.py\u001b[0m in \u001b[0;36mget_forum_threads_by_sources\u001b[1;34m(sources, metadata, kind)\u001b[0m\n\u001b[0;32m    263\u001b[0m             \u001b[1;32mfor\u001b[0m \u001b[0mresource\u001b[0m \u001b[1;32min\u001b[0m \u001b[0mdata\u001b[0m\u001b[1;33m:\u001b[0m\u001b[1;33m\u001b[0m\u001b[0m\n\u001b[0;32m    264\u001b[0m                 \u001b[1;31m# Get text\u001b[0m\u001b[1;33m\u001b[0m\u001b[1;33m\u001b[0m\u001b[0m\n\u001b[1;32m--> 265\u001b[1;33m                 \u001b[0mthread_intro\u001b[0m \u001b[1;33m=\u001b[0m \u001b[0mresource\u001b[0m\u001b[1;33m[\u001b[0m\u001b[1;34m'article_title_tokenized'\u001b[0m\u001b[1;33m]\u001b[0m \u001b[1;33m+\u001b[0m \u001b[0mresource\u001b[0m\u001b[1;33m[\u001b[0m\u001b[1;34m'article_text_tokenized'\u001b[0m\u001b[1;33m]\u001b[0m\u001b[1;33m\u001b[0m\u001b[0m\n\u001b[0m\u001b[0;32m    266\u001b[0m                 \u001b[1;32mfor\u001b[0m \u001b[0mcomment\u001b[0m \u001b[1;32min\u001b[0m \u001b[0mresource\u001b[0m\u001b[1;33m[\u001b[0m\u001b[1;34m'comments'\u001b[0m\u001b[1;33m]\u001b[0m\u001b[1;33m:\u001b[0m\u001b[1;33m\u001b[0m\u001b[0m\n\u001b[0;32m    267\u001b[0m                     \u001b[0mcon_comment\u001b[0m \u001b[1;33m=\u001b[0m \u001b[0m_concatenate_comment\u001b[0m\u001b[1;33m(\u001b[0m\u001b[0mcomment\u001b[0m\u001b[1;33m)\u001b[0m\u001b[1;33m\u001b[0m\u001b[0m\n",
      "\u001b[1;31mKeyError\u001b[0m: 'article_title_tokenized'"
     ]
    }
   ],
   "source": [
    "data = dl.get_forum_threads_by_language(language, typex,kind = \"tagged\")\n",
    "texts = data['thread_texts']\n",
    "\n",
    "def min_length (texts,min_characters):\n",
    "    neu = []\n",
    "    for t in texts: \n",
    "        token_perdoc_list = t.split()\n",
    "        token_min_character = []\n",
    "        for token in token_perdoc_list: \n",
    "            if len(token)>= min_characters: \n",
    "                token_min_character.append(token)\n",
    "        joined = (\" \").join(token_min_character)\n",
    "        neu.append(joined)\n",
    "    return neu\n",
    "\n",
    "texts = min_length(texts,3)"
   ]
  },
  {
   "cell_type": "code",
   "execution_count": null,
   "metadata": {},
   "outputs": [],
   "source": [
    "vec = Vectorizer('tf', texts, min_df=min_df, max_df=max_df)\n",
    "vec.save('tagged/vectorizer/{}_{}_{}_{}_pos.pkl'.format(algorithm, language, typex,\"forum\",\"tagged\"))\n",
    "\n",
    "document_term_matrix = vec.get_document_token_matrix(texts)\n",
    "id2token = vec.get_id2token_mapping()"
   ]
  },
  {
   "cell_type": "code",
   "execution_count": null,
   "metadata": {},
   "outputs": [],
   "source": [
    "document_term_matrix = skutil.shuffle(document_term_matrix, random_state=1)\n",
    "num_docs, num_terms = document_term_matrix.shape\n",
    "train = int(num_docs * train_percentage)\n",
    "train_document_term_matrix = document_term_matrix[0:train, :]\n",
    "test_document_term_matrix = document_term_matrix[train: num_docs, :]"
   ]
  },
  {
   "cell_type": "code",
   "execution_count": null,
   "metadata": {},
   "outputs": [],
   "source": [
    "model = TopicModel('lda', num_topics, train_document_term_matrix, id2token, alpha=alpha, eta=eta, iterations=iterations, passes=passes, chunksize=chunksize, test_document_term_matrix=test_document_term_matrix, decay=kappa, offset=tau_0)\n",
    "model.save('tagged/topic_models/lda/{}_{}_{}_{}forum{}.pkl'.format(algorithm, language, typex,\"tagged\",num_topics))"
   ]
  },
  {
   "cell_type": "code",
   "execution_count": null,
   "metadata": {},
   "outputs": [],
   "source": []
  }
 ],
 "metadata": {
  "kernelspec": {
   "display_name": "Python 3",
   "language": "python",
   "name": "python3"
  },
  "language_info": {
   "codemirror_mode": {
    "name": "ipython",
    "version": 3
   },
   "file_extension": ".py",
   "mimetype": "text/x-python",
   "name": "python",
   "nbconvert_exporter": "python",
   "pygments_lexer": "ipython3",
   "version": "3.6.4"
  }
 },
 "nbformat": 4,
 "nbformat_minor": 2
}
