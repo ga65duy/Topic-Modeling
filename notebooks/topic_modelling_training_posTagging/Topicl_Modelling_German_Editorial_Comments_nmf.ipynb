{
 "cells": [
  {
   "cell_type": "code",
   "execution_count": 1,
   "metadata": {},
   "outputs": [
    {
     "name": "stderr",
     "output_type": "stream",
     "text": [
      "C:\\Users\\Maria\\Anaconda3\\lib\\site-packages\\gensim\\utils.py:1197: UserWarning: detected Windows; aliasing chunkize to chunkize_serial\n",
      "  warnings.warn(\"detected Windows; aliasing chunkize to chunkize_serial\")\n"
     ]
    }
   ],
   "source": [
    "import sys\n",
    "sys.path.append('../..')\n",
    "import src.data.data_loader as dl\n",
    "from src.features.vectorizer import Vectorizer\n",
    "from src.models.topic_models import TopicModel\n",
    "import pandas as pd\n",
    "import sklearn.utils as skutil\n",
    "pd.set_option('display.max_rows', None)"
   ]
  },
  {
   "cell_type": "code",
   "execution_count": 2,
   "metadata": {},
   "outputs": [],
   "source": [
    "# Data \n",
    "language = 'german'\n",
    "typex = 'editorial'\n",
    "aggregation = 'article'\n",
    "\n",
    "# Vectorization\n",
    "min_df = 0.005\n",
    "max_df = 0.9\n",
    "\n",
    "# Topic Modeling\n",
    "algorithm = 'nmf'\n",
    "num_topics = 170"
   ]
  },
  {
   "cell_type": "code",
   "execution_count": 3,
   "metadata": {},
   "outputs": [],
   "source": [
    "data = dl.get_comments_by_type(language, typex, aggregation)\n",
    "texts = data['comment_texts']\n",
    "\n",
    "def min_length (texts,min_characters):\n",
    "    neu = []\n",
    "    for t in texts: \n",
    "        token_perdoc_list = t.split()\n",
    "        token_min_character = []\n",
    "        for token in token_perdoc_list: \n",
    "            if len(token)>= min_characters: \n",
    "                token_min_character.append(token)\n",
    "        joined = (\" \").join(token_min_character)\n",
    "        neu.append(joined)\n",
    "    return neu\n",
    "\n",
    "texts = min_length(texts,3)"
   ]
  },
  {
   "cell_type": "code",
   "execution_count": 4,
   "metadata": {},
   "outputs": [
    {
     "data": {
      "text/plain": [
       "(1782, 15193)"
      ]
     },
     "metadata": {},
     "output_type": "display_data"
    }
   ],
   "source": [
    "vec = Vectorizer('tfidf', texts, min_df=min_df, max_df=max_df)\n",
    "vec.save('tagged/vectorizer/{}_{}_{}_pos.pkl'.format(algorithm, language, \"comment_texts\",\"tagged\"))\n",
    "\n",
    "document_term_matrix = vec.get_document_token_matrix(texts)\n",
    "id2token = vec.get_id2token_mapping()\n",
    "document_term_matrix = skutil.shuffle(document_term_matrix, random_state=1)\n",
    "display(document_term_matrix.shape)"
   ]
  },
  {
   "cell_type": "code",
   "execution_count": 5,
   "metadata": {},
   "outputs": [
    {
     "name": "stderr",
     "output_type": "stream",
     "text": [
      "C:\\Users\\Maria\\Anaconda3\\lib\\site-packages\\sklearn\\decomposition\\nmf.py:1035: ConvergenceWarning: Maximum number of iteration 200 reached. Increase it to improve convergence.\n",
      "  \" improve convergence.\" % max_iter, ConvergenceWarning)\n"
     ]
    },
    {
     "name": "stdout",
     "output_type": "stream",
     "text": [
      "Epoch 10 reached after 4.853 seconds, error: 36.061235\n",
      "Epoch 20 reached after 9.038 seconds, error: 35.518531\n",
      "Epoch 30 reached after 12.846 seconds, error: 35.347624\n",
      "Epoch 40 reached after 16.703 seconds, error: 35.263996\n",
      "Epoch 50 reached after 20.588 seconds, error: 35.213007\n",
      "Epoch 60 reached after 24.406 seconds, error: 35.183854\n",
      "Epoch 70 reached after 28.245 seconds, error: 35.164155\n",
      "Epoch 80 reached after 32.069 seconds, error: 35.150717\n",
      "Epoch 90 reached after 35.887 seconds, error: 35.141421\n",
      "Epoch 100 reached after 39.636 seconds, error: 35.134807\n",
      "Epoch 110 reached after 43.409 seconds, error: 35.129774\n",
      "Epoch 120 reached after 47.327 seconds, error: 35.125171\n",
      "Epoch 130 reached after 51.470 seconds, error: 35.121408\n",
      "Epoch 140 reached after 56.609 seconds, error: 35.118486\n",
      "Epoch 150 reached after 61.549 seconds, error: 35.116089\n",
      "Epoch 160 reached after 67.220 seconds, error: 35.114062\n",
      "Epoch 170 reached after 72.279 seconds, error: 35.112266\n",
      "Epoch 180 reached after 77.265 seconds, error: 35.110542\n",
      "Epoch 190 reached after 83.200 seconds, error: 35.109104\n",
      "Epoch 200 reached after 88.301 seconds, error: 35.107854\n",
      "\n"
     ]
    }
   ],
   "source": [
    "model = TopicModel('nmf',num_topics, document_term_matrix, id2token)\n",
    "model.save('tagged/topic_models/nmf/{}_{}_{}_{}_{}.pkl'.format(algorithm, language, \"comment_texts\",\"tagged\",num_topics))"
   ]
  }
 ],
 "metadata": {
  "kernelspec": {
   "display_name": "Python 3",
   "language": "python",
   "name": "python3"
  },
  "language_info": {
   "codemirror_mode": {
    "name": "ipython",
    "version": 3
   },
   "file_extension": ".py",
   "mimetype": "text/x-python",
   "name": "python",
   "nbconvert_exporter": "python",
   "pygments_lexer": "ipython3",
   "version": "3.6.4"
  }
 },
 "nbformat": 4,
 "nbformat_minor": 2
}
