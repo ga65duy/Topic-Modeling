{
 "cells": [
  {
   "cell_type": "code",
   "execution_count": 1,
   "metadata": {},
   "outputs": [
    {
     "name": "stderr",
     "output_type": "stream",
     "text": [
      "C:\\Users\\Maria\\Anaconda3\\lib\\site-packages\\gensim\\utils.py:1197: UserWarning: detected Windows; aliasing chunkize to chunkize_serial\n",
      "  warnings.warn(\"detected Windows; aliasing chunkize to chunkize_serial\")\n"
     ]
    }
   ],
   "source": [
    "import sys\n",
    "sys.path.append('../..')\n",
    "import src.data.data_loader as dl\n",
    "from src.features.vectorizer import Vectorizer\n",
    "from src.models.topic_models import TopicModel\n",
    "import pandas as pd\n",
    "import sklearn.utils as skutil\n",
    "pd.set_option('display.max_rows', None)"
   ]
  },
  {
   "cell_type": "code",
   "execution_count": 2,
   "metadata": {},
   "outputs": [],
   "source": [
    "# Data \n",
    "language = 'english'\n",
    "typex = 'editorial'\n",
    "\n",
    "# Vectorization\n",
    "min_df = 0.005\n",
    "max_df = 0.9\n",
    "\n",
    "# Topic Modeling\n",
    "algorithm = 'nmf'\n",
    "num_topics = 170"
   ]
  },
  {
   "cell_type": "code",
   "execution_count": 3,
   "metadata": {},
   "outputs": [
    {
     "name": "stdout",
     "output_type": "stream",
     "text": [
      "['choose healthy drink instead soda like milk juice charge extra concerned kid health reverse 19¢ make expensive healthy choice charge .19cent juice instead soda know family charge want healthy horrible practice today rare visit mcdonalds anymore chik fil instead mcdonalds obesity high cholesterol type diabete add organic apple juice organic tobacco pack cigarette make healthy unhappy early death case clint hassleman pay attention article order happy meal grandson want screw abbott trumpturd sure use vocabulary idiotic statement josh homer write simply clint understand word contain syllable rest word small able decipher meaning big word meaning statement reread time difficulty problem ask mom help mean english josh homer think clint work mcdonald order right', 'follow sheep sucker regulation food organic gullible people pay double price sucker plenty healthy food label organic read ingredient', 'cyber monday cyber weekend lol deal hoverboard amazon <URL> new lenovo y520 256ssd gtx 1050ti costco amazon listen device house eaf drop occur thing want house look cyber monday deal retailer offer good deal laptop ps4 iphones <URL> amazing strangely vpn deal mention pretty necessary good year check <URL> wow black friday day/ cyber monday deal live <URL> check good deal day <URL>', 'marriage dangerous', 'cyber monday deal chain restaurant include cheesecake factory domino cracker barrel <URL> amazing cyber monday deal hoverboard <URL> certified apple right holiday tradition cyber monday want leave tip people follow make purchase protect firstly use incognito mode tor browser secondly use vpn like <URL> thirdly know real market price product buy website increase price cyber monday claim reduce price upto cyber monday deal <URL> upto cyber monday deal <URL> need new blender vitamix right <URL> pretty crazy cheap model cyber monday deal live <URL> great deal wow thank deal amazon good cyber monday deal free delivery link available deal <URL>']\n"
     ]
    }
   ],
   "source": [
    "data = dl.get_comments_by_type(language, typex)\n",
    "texts = data['comment_texts']\n",
    "\n",
    "def min_length (texts,min_characters):\n",
    "    neu = []\n",
    "    for t in texts: \n",
    "        token_perdoc_list = t.split()\n",
    "        token_min_character = []\n",
    "        for token in token_perdoc_list: \n",
    "            if len(token)>= min_characters: \n",
    "                token_min_character.append(token)\n",
    "        joined = (\" \").join(token_min_character)\n",
    "        neu.append(joined)\n",
    "    return neu\n",
    "\n",
    "texts = min_length(texts,3)\n",
    "print(texts[:5])"
   ]
  },
  {
   "cell_type": "code",
   "execution_count": 4,
   "metadata": {},
   "outputs": [],
   "source": [
    "vec = Vectorizer('tfidf', texts, min_df=min_df, max_df=max_df)\n",
    "vec.save('tagged/vectorizer/{}_{}_{}_pos.pkl'.format(algorithm, language, typex,\"tagged\"))\n",
    "\n",
    "document_term_matrix = vec.get_document_token_matrix(texts)\n",
    "id2token = vec.get_id2token_mapping()\n",
    "document_term_matrix = skutil.shuffle(document_term_matrix, random_state=1)"
   ]
  },
  {
   "cell_type": "code",
   "execution_count": 5,
   "metadata": {},
   "outputs": [
    {
     "name": "stderr",
     "output_type": "stream",
     "text": [
      "C:\\Users\\Maria\\Anaconda3\\lib\\site-packages\\sklearn\\decomposition\\nmf.py:1035: ConvergenceWarning: Maximum number of iteration 200 reached. Increase it to improve convergence.\n",
      "  \" improve convergence.\" % max_iter, ConvergenceWarning)\n"
     ]
    },
    {
     "name": "stdout",
     "output_type": "stream",
     "text": [
      "Epoch 10 reached after 2.305 seconds, error: 12.680233\n",
      "Epoch 20 reached after 4.069 seconds, error: 12.165882\n",
      "Epoch 30 reached after 5.776 seconds, error: 12.023672\n",
      "Epoch 40 reached after 7.715 seconds, error: 11.958711\n",
      "Epoch 50 reached after 9.703 seconds, error: 11.920817\n",
      "Epoch 60 reached after 11.657 seconds, error: 11.897973\n",
      "Epoch 70 reached after 13.480 seconds, error: 11.882797\n",
      "Epoch 80 reached after 15.539 seconds, error: 11.870475\n",
      "Epoch 90 reached after 17.734 seconds, error: 11.861210\n",
      "Epoch 100 reached after 19.654 seconds, error: 11.854412\n",
      "Epoch 110 reached after 21.844 seconds, error: 11.848548\n",
      "Epoch 120 reached after 23.854 seconds, error: 11.842646\n",
      "Epoch 130 reached after 25.954 seconds, error: 11.837281\n",
      "Epoch 140 reached after 27.953 seconds, error: 11.833039\n",
      "Epoch 150 reached after 30.082 seconds, error: 11.829093\n",
      "Epoch 160 reached after 32.395 seconds, error: 11.825664\n",
      "Epoch 170 reached after 34.557 seconds, error: 11.822468\n",
      "Epoch 180 reached after 36.713 seconds, error: 11.820103\n",
      "Epoch 190 reached after 38.947 seconds, error: 11.817921\n",
      "Epoch 200 reached after 41.184 seconds, error: 11.815786\n",
      "\n"
     ]
    }
   ],
   "source": [
    "model = TopicModel('nmf',num_topics, document_term_matrix, id2token)\n",
    "model.save('tagged/topic_models/nmf/{}_{}_{}_{}_comments_{}.pkl'.format(algorithm, language, typex,\"tagged\",num_topics))"
   ]
  },
  {
   "cell_type": "code",
   "execution_count": null,
   "metadata": {},
   "outputs": [],
   "source": []
  }
 ],
 "metadata": {
  "kernelspec": {
   "display_name": "Python 3",
   "language": "python",
   "name": "python3"
  },
  "language_info": {
   "codemirror_mode": {
    "name": "ipython",
    "version": 3
   },
   "file_extension": ".py",
   "mimetype": "text/x-python",
   "name": "python",
   "nbconvert_exporter": "python",
   "pygments_lexer": "ipython3",
   "version": "3.6.4"
  }
 },
 "nbformat": 4,
 "nbformat_minor": 2
}
