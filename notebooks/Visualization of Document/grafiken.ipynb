{
 "cells": [
  {
   "cell_type": "code",
   "execution_count": 106,
   "metadata": {},
   "outputs": [
    {
     "data": {
      "text/plain": [
       "['.DS_Store',\n",
       " '.env',\n",
       " '.git',\n",
       " '.gitignore',\n",
       " '.idea',\n",
       " '.ipynb_checkpoints',\n",
       " '._.DS_Store',\n",
       " 'clusteringMaria.ipynb',\n",
       " 'data',\n",
       " 'docs',\n",
       " 'example.ipynb',\n",
       " 'grafiken.ipynb',\n",
       " 'GrafikenAufbestehendenDaten.ipynb',\n",
       " 'HldaDemo.ipynb',\n",
       " 'hldaTest.ipynb',\n",
       " 'LICENSE',\n",
       " 'Makefile',\n",
       " 'models',\n",
       " 'notebooks',\n",
       " 'README.md',\n",
       " 'reports',\n",
       " 'requirements.txt',\n",
       " 'src',\n",
       " 'Untitled.ipynb',\n",
       " 'venv']"
      ]
     },
     "execution_count": 106,
     "metadata": {},
     "output_type": "execute_result"
    }
   ],
   "source": [
    "import sys\n",
    "sys.path.append('D:/Uni/Bachelorarbeit/Projekte/tm-christian')\n",
    "import src.data.data_loader as dl\n",
    "from src.features.vectorizer import Vectorizer\n",
    "from src.models.topic_models import TopicModel as tm\n",
    "import src.visualization.visualize_tm as vis"
   ]
  },
  {
   "cell_type": "code",
   "execution_count": 24,
   "metadata": {},
   "outputs": [],
   "source": [
    "data = dl.get_articles_by_sources([\"zeit\", \"spiegel\"], metadata=[\"article_time\", \"article_title\"])\n",
    "texts = data[\"article_texts\"]"
   ]
  },
  {
   "cell_type": "code",
   "execution_count": 25,
   "metadata": {},
   "outputs": [
    {
     "name": "stdout",
     "output_type": "stream",
     "text": [
      "<class 'scipy.sparse.csr.csr_matrix'>\n",
      "(200, 19490)\n"
     ]
    }
   ],
   "source": [
    "#vektor aus texten\n",
    "vec = Vectorizer(\"tf\", texts)\n",
    "#für jedes dokumnet ein vektor -> bag of words\n",
    "document_token_matrix = vec.get_document_token_matrix(texts)"
   ]
  },
  {
   "cell_type": "code",
   "execution_count": 26,
   "metadata": {},
   "outputs": [
    {
     "name": "stderr",
     "output_type": "stream",
     "text": [
      "2018-06-09 15:27:18,205 : INFO : using symmetric alpha at 0.1\n",
      "2018-06-09 15:27:18,208 : INFO : using symmetric eta at 0.1\n",
      "2018-06-09 15:27:18,214 : INFO : using serial LDA version on this node\n",
      "2018-06-09 15:27:18,246 : INFO : running online (single-pass) LDA training, 10 topics, 1 passes over the supplied corpus of 200 documents, updating model once every 200 documents, evaluating perplexity every 0 documents, iterating 50x with a convergence threshold of 0.001000\n",
      "2018-06-09 15:27:18,248 : WARNING : too few updates, training might not converge; consider increasing the number of passes or iterations to improve accuracy\n",
      "2018-06-09 15:27:18,262 : INFO : PROGRESS: pass 0, at document #200/200\n",
      "2018-06-09 15:27:18,514 : INFO : topic #7 (0.100): 0.004*\"prozent\" + 0.004*\"landwirtschaft\" + 0.004*\"bio\" + 0.003*\"bauer\" + 0.003*\"deutschland\" + 0.003*\"ökologisch\" + 0.003*\"konventionell\" + 0.003*\"lebensmittel\" + 0.003*\"produkt\" + 0.003*\"jed\"\n",
      "2018-06-09 15:27:18,514 : INFO : topic #3 (0.100): 0.005*\"prozent\" + 0.004*\"landwirtschaft\" + 0.003*\"deutschland\" + 0.003*\"euro\" + 0.003*\"bio\" + 0.003*\"verbraucher\" + 0.003*\"konventionell\" + 0.003*\"bauer\" + 0.003*\"deutsch\" + 0.002*\"produkt\"\n",
      "2018-06-09 15:27:18,514 : INFO : topic #6 (0.100): 0.006*\"prozent\" + 0.004*\"deutschland\" + 0.003*\"ökologisch\" + 0.003*\"bauer\" + 0.003*\"landwirtschaft\" + 0.003*\"produkt\" + 0.003*\"bio\" + 0.003*\"konventionell\" + 0.002*\"verbraucher\" + 0.002*\"lebensmittel\"\n",
      "2018-06-09 15:27:18,514 : INFO : topic #9 (0.100): 0.004*\"prozent\" + 0.003*\"bauer\" + 0.003*\"deutschland\" + 0.003*\"lebensmittel\" + 0.003*\"euro\" + 0.003*\"landwirtschaft\" + 0.003*\"verbraucher\" + 0.003*\"jed\" + 0.003*\"bio\" + 0.003*\"produkt\"\n",
      "2018-06-09 15:27:18,520 : INFO : topic #8 (0.100): 0.004*\"prozent\" + 0.004*\"tier\" + 0.003*\"lebensmittel\" + 0.003*\"bio\" + 0.003*\"verbraucher\" + 0.003*\"konventionell\" + 0.003*\"produkt\" + 0.003*\"euro\" + 0.003*\"deutschland\" + 0.003*\"stall\"\n",
      "2018-06-09 15:27:18,521 : INFO : topic diff=3.456758, rho=1.000000\n",
      "2018-06-09 15:27:19,173 : INFO : Epoch 0: perplexity estimate: 1279.5902811730866\n"
     ]
    }
   ],
   "source": [
    "#lda model\n",
    "id2token = vec.get_id2token_mapping()\n",
    "tm = TopicModel(\"lda\", 10 ,document_token_matrix,id2token)"
   ]
  },
  {
   "cell_type": "code",
   "execution_count": 32,
   "metadata": {
    "scrolled": true
   },
   "outputs": [
    {
     "name": "stdout",
     "output_type": "stream",
     "text": [
      "[[3.5095084e-04 3.5094720e-04 3.5094214e-04 ... 3.5094755e-04\n",
      "  3.5095267e-04 3.5093122e-04]\n",
      " [1.2840393e-04 1.2840144e-04 4.8915389e-01 ... 1.2840703e-04\n",
      "  1.2839715e-04 1.2839137e-04]\n",
      " [2.4974087e-02 5.4184813e-05 5.4183765e-05 ... 2.8221434e-01\n",
      "  5.4180808e-05 5.4183834e-05]\n",
      " ...\n",
      " [9.8965341e-01 1.1495908e-03 1.1496771e-03 ... 1.1496283e-03\n",
      "  1.1495886e-03 1.1497724e-03]\n",
      " [4.1673612e-04 9.9624926e-01 4.1674825e-04 ... 4.1674401e-04\n",
      "  4.1673236e-04 4.1673856e-04]\n",
      " [3.9376185e-04 3.9380504e-04 3.9375856e-04 ... 9.9645597e-01\n",
      "  3.9375480e-04 3.9379290e-04]]\n",
      "<class 'numpy.ndarray'>\n"
     ]
    }
   ],
   "source": [
    "document_topic_matrix = tm.get_document_topic_matrix(document_token_matrix)\n",
    "print(document_topic_matrix)\n",
    "print(type(document_topic_matrix))"
   ]
  },
  {
   "cell_type": "code",
   "execution_count": 94,
   "metadata": {},
   "outputs": [
    {
     "name": "stdout",
     "output_type": "stream",
     "text": [
      "([1, 3, 2, 1, 2, 1, 3, 1, 1, 1, 1, 1, 2, 1, 1, 2, 2, 1, 1, 2, 1, 2, 1, 2, 1, 1, 1, 2, 1, 2, 1, 1, 1, 1, 2, 1, 2, 2, 1, 1, 2, 2, 2, 1, 1, 1, 1, 2, 1, 1, 1, 1, 2, 1, 1, 1, 2, 2, 1, 2, 1, 1, 1, 1, 1, 2, 1, 1, 1, 1, 1, 2, 1, 2, 1, 1, 2, 1, 2, 2, 1, 1, 1, 1, 2, 1, 1, 2, 2, 1, 2, 1, 1, 1, 1, 1, 1, 1, 1, 1, 1, 1, 2, 1, 1, 1, 1, 2, 1, 2, 1, 1, 1, 2, 3, 1, 1, 1, 1, 2, 2, 1, 2, 1, 1, 1, 1, 1, 2, 1, 1, 1, 1, 1, 1, 1, 1, 1, 1, 2, 1, 1, 1, 2, 1, 1, 2, 1, 1, 3, 1, 1, 2, 1, 3, 1, 1, 2, 2, 1, 1, 1, 3, 2, 3, 1, 2, 1, 4, 2, 1, 1, 1, 1, 1, 1, 1, 1, 3, 2, 1, 1, 1, 3, 2, 2, 1, 1, 1, 2, 1, 1, 1, 1, 1, 1, 1, 1, 1, 1], 4)\n"
     ]
    }
   ],
   "source": [
    "#limitation per row\n",
    "#wie viele topics die grenze pro doc überschritten\n",
    "def amount_topic_per_dokument(min_probability, matrix):\n",
    "    newMatrix = []\n",
    "    for matrixrow in range(0, len(matrix)):\n",
    "        count = 0 \n",
    "        for matrixcolumn in range(0,(len(matrix[0]))):\n",
    "            if matrix[matrixrow, matrixcolumn] >= min_probability: \n",
    "                count +=1 \n",
    "        newMatrix.append(count)\n",
    "    max_topic_number = max(newMatrix)\n",
    "    \n",
    "    \n",
    "    return newMatrix, max_topic_number\n",
    "                \n",
    "print(amount_topic_per_dokument(0.1, document_topic_matrix))\n"
   ]
  },
  {
   "cell_type": "code",
   "execution_count": 103,
   "metadata": {
    "scrolled": false
   },
   "outputs": [
    {
     "name": "stdout",
     "output_type": "stream",
     "text": [
      "defaultdict(<class 'int'>, {1: 138, 3: 9, 2: 52, 4: 1})\n",
      "OrderedDict([(1, 138), (2, 52), (3, 9), (4, 1)])\n",
      "[1, 2, 3, 4]\n",
      "[138, 52, 9, 1]\n"
     ]
    }
   ],
   "source": [
    "from collections import defaultdict\n",
    "from collections import OrderedDict\n",
    "doc_count_dict = defaultdict(int)\n",
    "\n",
    "amount_topic_per_dokument2,x = amount_topic_per_dokument(0.1, document_topic_matrix)\n",
    "\n",
    "for doc in amount_topic_per_dokument2: \n",
    "    doc_count_dict[doc] +=1\n",
    "print(doc_count_dict)\n",
    "\n",
    "asc = OrderedDict(sorted(doc_count_dict.items()))\n",
    "print(asc)\n",
    "\n",
    "k = [k for (k,v) in asc.items()]\n",
    "print(k)\n",
    "\n",
    "v = [v for (k,v) in asc.items()]\n",
    "print(v)\n",
    "\n"
   ]
  },
  {
   "cell_type": "code",
   "execution_count": 104,
   "metadata": {},
   "outputs": [
    {
     "data": {
      "image/png": "[encoded data removed]",
      "text/plain": [
       "<matplotlib.figure.Figure at 0x1b49fd31518>"
      ]
     },
     "metadata": {},
     "output_type": "display_data"
    }
   ],
   "source": [
    "import matplotlib.pyplot as plt\n",
    "import numpy as np\n",
    "\n",
    "\n",
    "plt.bar(k,v)\n",
    "\n",
    "plt.show()"
   ]
  },
  {
   "cell_type": "code",
   "execution_count": 81,
   "metadata": {
    "scrolled": true
   },
   "outputs": [
    {
     "name": "stdout",
     "output_type": "stream",
     "text": [
      "[51, 12, 35, 28, 26, 29, 18, 41, 13, 20]\n"
     ]
    }
   ],
   "source": [
    "#limitation per column\n",
    "def amount_doc_per_topic(min_probability, matrix):\n",
    "    newMatrix = []\n",
    "    for matrixcolumn in range(0, (len(matrix[0]))):\n",
    "        count = 0\n",
    "        for matrixrow in range (0, len(matrix)):\n",
    "            if matrix[matrixrow,matrixcolumn]>= min_probability: \n",
    "                count += 1\n",
    "        newMatrix.append(count)\n",
    "    return newMatrix\n",
    "                \n",
    "print(amount_doc_per_topic(0.1, document_topic_matrix))"
   ]
  },
  {
   "cell_type": "code",
   "execution_count": 88,
   "metadata": {},
   "outputs": [
    {
     "data": {
      "image/png": "[encoded data removed]",
      "text/plain": [
       "<matplotlib.figure.Figure at 0x1b4a80e8fd0>"
      ]
     },
     "metadata": {},
     "output_type": "display_data"
    }
   ],
   "source": [
    "import matplotlib.pyplot as plt\n",
    "import numpy as np\n",
    "\n",
    "document_topic_list= amount_doc_per_topic(0.1, document_topic_matrix)\n",
    "\n",
    "topicnumber = range(0,len(document_topic_list))\n",
    "plt.bar(topicnumber,document_topic_list)\n",
    "\n",
    "plt.title('Number of documents per topic')\n",
    "plt.xlabel('Topics number')\n",
    "plt.ylabel('Number of documents')\n",
    "plt.xticks(topicnumber, topicnumber)\n",
    "\n",
    "plt.show()"
   ]
  }
 ],
 "metadata": {
  "kernelspec": {
   "display_name": "Python 3",
   "language": "python",
   "name": "python3"
  },
  "language_info": {
   "codemirror_mode": {
    "name": "ipython",
    "version": 3
   },
   "file_extension": ".py",
   "mimetype": "text/x-python",
   "name": "python",
   "nbconvert_exporter": "python",
   "pygments_lexer": "ipython3",
   "version": "3.6.4"
  }
 },
 "nbformat": 4,
 "nbformat_minor": 2
}
