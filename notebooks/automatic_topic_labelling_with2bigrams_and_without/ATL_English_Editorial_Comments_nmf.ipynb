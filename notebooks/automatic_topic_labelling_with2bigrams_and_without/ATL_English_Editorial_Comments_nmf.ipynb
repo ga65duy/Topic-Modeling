{
 "cells": [
  {
   "cell_type": "markdown",
   "metadata": {},
   "source": [
    "## ATL on English Editorial Comments without_bigrams with nmf"
   ]
  },
  {
   "cell_type": "code",
   "execution_count": 4,
   "metadata": {},
   "outputs": [],
   "source": [
    "import sys\n",
    "sys.path.append('../..')\n",
    "import src.Automatic_Topic_Labeling.lable_topic as tl\n",
    "import src.data.data_loader as dl\n",
    "import src.Automatic_Topic_Labeling.helper_functions as hp\n",
    "from src.features.vectorizer import Vectorizer\n",
    "from src.models.topic_models import TopicModel"
   ]
  },
  {
   "cell_type": "code",
   "execution_count": 5,
   "metadata": {},
   "outputs": [
    {
     "ename": "FileNotFoundError",
     "evalue": "[Errno 2] No such file or directory: 'D:\\\\Bachelorarbeit\\\\Projekte\\\\tm-maria\\\\models\\\\vectorizer/nmf_german_editorial_without_bigrams.pkl'",
     "output_type": "error",
     "traceback": [
      "\u001b[1;31m---------------------------------------------------------------------------\u001b[0m",
      "\u001b[1;31mFileNotFoundError\u001b[0m                         Traceback (most recent call last)",
      "\u001b[1;32m<ipython-input-5-923cd2ec726e>\u001b[0m in \u001b[0;36m<module>\u001b[1;34m()\u001b[0m\n\u001b[0;32m      5\u001b[0m \u001b[0mpos\u001b[0m \u001b[1;33m=\u001b[0m \u001b[1;32mNone\u001b[0m\u001b[1;33m\u001b[0m\u001b[0m\n\u001b[0;32m      6\u001b[0m \u001b[1;33m\u001b[0m\u001b[0m\n\u001b[1;32m----> 7\u001b[1;33m \u001b[0mvec\u001b[0m \u001b[1;33m=\u001b[0m \u001b[0mVectorizer\u001b[0m\u001b[1;33m.\u001b[0m\u001b[0mload\u001b[0m\u001b[1;33m(\u001b[0m\u001b[1;34m'vectorizer/nmf_german_editorial_without_bigrams.pkl'\u001b[0m\u001b[1;33m)\u001b[0m\u001b[1;33m\u001b[0m\u001b[0m\n\u001b[0m\u001b[0;32m      8\u001b[0m \u001b[0mtm\u001b[0m \u001b[1;33m=\u001b[0m \u001b[0mTopicModel\u001b[0m\u001b[1;33m.\u001b[0m\u001b[0mload\u001b[0m\u001b[1;33m(\u001b[0m\u001b[1;34m'topic_models/nmf/nmf_english_editorial_without_bigrams_comments170.pkl'\u001b[0m\u001b[1;33m)\u001b[0m\u001b[1;33m\u001b[0m\u001b[0m\n\u001b[0;32m      9\u001b[0m \u001b[1;33m\u001b[0m\u001b[0m\n",
      "\u001b[1;32mD:\\Bachelorarbeit\\Projekte\\tm-maria\\src\\features\\vectorizer.py\u001b[0m in \u001b[0;36mload\u001b[1;34m(path)\u001b[0m\n\u001b[0;32m    105\u001b[0m         \u001b[1;31m#full_path = os.path.join(ROOT_DIR, 'models' , path)\u001b[0m\u001b[1;33m\u001b[0m\u001b[1;33m\u001b[0m\u001b[0m\n\u001b[0;32m    106\u001b[0m         \u001b[0mfull_path\u001b[0m \u001b[1;33m=\u001b[0m \u001b[0mos\u001b[0m\u001b[1;33m.\u001b[0m\u001b[0mpath\u001b[0m\u001b[1;33m.\u001b[0m\u001b[0mjoin\u001b[0m\u001b[1;33m(\u001b[0m\u001b[1;34m\"D:\\Bachelorarbeit\\Projekte\"\u001b[0m \u001b[1;33m,\u001b[0m \u001b[1;34m'tm-maria\\models'\u001b[0m \u001b[1;33m,\u001b[0m \u001b[0mpath\u001b[0m\u001b[1;33m)\u001b[0m\u001b[1;33m\u001b[0m\u001b[0m\n\u001b[1;32m--> 107\u001b[1;33m         \u001b[1;32mwith\u001b[0m \u001b[0mopen\u001b[0m\u001b[1;33m(\u001b[0m\u001b[0mfull_path\u001b[0m\u001b[1;33m,\u001b[0m \u001b[1;34m'rb'\u001b[0m\u001b[1;33m)\u001b[0m \u001b[1;32mas\u001b[0m \u001b[0mf\u001b[0m\u001b[1;33m:\u001b[0m\u001b[1;33m\u001b[0m\u001b[0m\n\u001b[0m\u001b[0;32m    108\u001b[0m             \u001b[0mvec\u001b[0m \u001b[1;33m=\u001b[0m \u001b[0mpickle\u001b[0m\u001b[1;33m.\u001b[0m\u001b[0mload\u001b[0m\u001b[1;33m(\u001b[0m\u001b[0mf\u001b[0m\u001b[1;33m)\u001b[0m\u001b[1;33m\u001b[0m\u001b[0m\n\u001b[0;32m    109\u001b[0m         \u001b[1;32mreturn\u001b[0m \u001b[0mvec\u001b[0m\u001b[1;33m\u001b[0m\u001b[0m\n",
      "\u001b[1;31mFileNotFoundError\u001b[0m: [Errno 2] No such file or directory: 'D:\\\\Bachelorarbeit\\\\Projekte\\\\tm-maria\\\\models\\\\vectorizer/nmf_german_editorial_without_bigrams.pkl'"
     ]
    }
   ],
   "source": [
    "language = \"german\"\n",
    "typex = \"editorial\"\n",
    "texttype = \"comment_texts\"\n",
    "model = \"nmf\"\n",
    "pos = None\n",
    "\n",
    "vec = Vectorizer.load('vectorizer/nmf_german_editorial_without_bigrams.pkl')\n",
    "tm = TopicModel.load('topic_models/nmf/nmf_english_editorial_without_bigrams_comments170.pkl')\n",
    "\n",
    "docs = load_doc(language, typex, texttype,\"wobigrams\")\n",
    "\n",
    "labels = tl.get_topic_lables([],docs,pos,model,vec,tm,n_top_words = 15, n_cand_lables = 100,lable_min_df = 5, n_labels = 8)\n",
    "\n",
    "print(\"\\nTopical labels:\")\n",
    "print(\"-\" * 20)\n",
    "for i, labels in enumerate(labels):\n",
    "    print(u\"Topic {}: {}\\n\".format(\n",
    "        i,\n",
    "        ', '.join(map(lambda l: ' '.join(l), labels))\n",
    "    ))"
   ]
  },
  {
   "cell_type": "code",
   "execution_count": 6,
   "metadata": {},
   "outputs": [],
   "source": [
    "## ATL with bigrams"
   ]
  },
  {
   "cell_type": "code",
   "execution_count": 7,
   "metadata": {},
   "outputs": [
    {
     "ename": "NameError",
     "evalue": "name 'typetx' is not defined",
     "output_type": "error",
     "traceback": [
      "\u001b[1;31m---------------------------------------------------------------------------\u001b[0m",
      "\u001b[1;31mNameError\u001b[0m                                 Traceback (most recent call last)",
      "\u001b[1;32m<ipython-input-7-19d29c3301b4>\u001b[0m in \u001b[0;36m<module>\u001b[1;34m()\u001b[0m\n\u001b[0;32m      2\u001b[0m \u001b[0mtm_bi\u001b[0m \u001b[1;33m=\u001b[0m \u001b[0mTopicModel\u001b[0m\u001b[1;33m.\u001b[0m\u001b[0mload\u001b[0m\u001b[1;33m(\u001b[0m\u001b[1;34m'topic_models/nmf/ENEDCO_nmf_english_editorial_comments_170.pkl'\u001b[0m\u001b[1;33m)\u001b[0m\u001b[1;33m\u001b[0m\u001b[0m\n\u001b[0;32m      3\u001b[0m \u001b[1;33m\u001b[0m\u001b[0m\n\u001b[1;32m----> 4\u001b[1;33m \u001b[0mdocs_bi\u001b[0m \u001b[1;33m=\u001b[0m \u001b[0mhp\u001b[0m\u001b[1;33m.\u001b[0m\u001b[0mload_doc\u001b[0m\u001b[1;33m(\u001b[0m\u001b[0mlanguage\u001b[0m\u001b[1;33m,\u001b[0m \u001b[0mtypetx\u001b[0m\u001b[1;33m,\u001b[0m \u001b[0mtexttype\u001b[0m\u001b[1;33m,\u001b[0m\u001b[1;34m\"with_2bigramms\"\u001b[0m\u001b[1;33m)\u001b[0m\u001b[1;33m\u001b[0m\u001b[0m\n\u001b[0m\u001b[0;32m      5\u001b[0m \u001b[1;33m\u001b[0m\u001b[0m\n\u001b[0;32m      6\u001b[0m \u001b[0mlabels_bi\u001b[0m \u001b[1;33m=\u001b[0m \u001b[0mtl\u001b[0m\u001b[1;33m.\u001b[0m\u001b[0mget_topic_lables\u001b[0m\u001b[1;33m(\u001b[0m\u001b[1;33m[\u001b[0m\u001b[1;33m]\u001b[0m\u001b[1;33m,\u001b[0m\u001b[0mdocs_bi\u001b[0m\u001b[1;33m,\u001b[0m\u001b[0mpos\u001b[0m\u001b[1;33m,\u001b[0m\u001b[0mmodel\u001b[0m\u001b[1;33m,\u001b[0m\u001b[0mvec_bi\u001b[0m\u001b[1;33m,\u001b[0m\u001b[0mtm_bi\u001b[0m\u001b[1;33m,\u001b[0m\u001b[0mn_top_words\u001b[0m \u001b[1;33m=\u001b[0m \u001b[1;36m15\u001b[0m\u001b[1;33m,\u001b[0m \u001b[0mn_cand_lables\u001b[0m \u001b[1;33m=\u001b[0m \u001b[1;36m100\u001b[0m\u001b[1;33m,\u001b[0m\u001b[0mlable_min_df\u001b[0m \u001b[1;33m=\u001b[0m \u001b[1;36m5\u001b[0m\u001b[1;33m,\u001b[0m \u001b[0mn_labels\u001b[0m \u001b[1;33m=\u001b[0m \u001b[1;36m8\u001b[0m\u001b[1;33m)\u001b[0m\u001b[1;33m\u001b[0m\u001b[0m\n",
      "\u001b[1;31mNameError\u001b[0m: name 'typetx' is not defined"
     ]
    }
   ],
   "source": [
    "vec_bi = Vectorizer.load('vectorizer/ENEDCO_nmf_english_editorial.pkl')\n",
    "tm_bi = TopicModel.load('topic_models/nmf/ENEDCO_nmf_english_editorial_comments_170.pkl')\n",
    "\n",
    "docs_bi = hp.load_doc(language, typetx, texttype,\"with_2bigramms\")\n",
    "\n",
    "labels_bi = tl.get_topic_lables([],docs_bi,pos,model,vec_bi,tm_bi,n_top_words = 15, n_cand_lables = 100,lable_min_df = 5, n_labels = 8)\n",
    "\n",
    "\n",
    "print(\"\\nTopical labels:\")\n",
    "print(\"-\" * 20)\n",
    "for i, labels in enumerate(labels_bi):\n",
    "        print(u\"Topic {}: {}\\n\".format(\n",
    "            i,\n",
    "            ', '.join(map(lambda l: ' '.join(l), labels))\n",
    "        ))"
   ]
  },
  {
   "cell_type": "code",
   "execution_count": null,
   "metadata": {},
   "outputs": [],
   "source": []
  }
 ],
 "metadata": {
  "kernelspec": {
   "display_name": "Python 3",
   "language": "python",
   "name": "python3"
  }
 },
 "nbformat": 4,
 "nbformat_minor": 2
}
