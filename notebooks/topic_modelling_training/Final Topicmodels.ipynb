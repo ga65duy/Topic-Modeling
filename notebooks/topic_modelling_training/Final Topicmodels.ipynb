{
 "cells": [
  {
   "cell_type": "markdown",
   "metadata": {},
   "source": [
    "## Final topic models for summarized comments"
   ]
  },
  {
   "cell_type": "code",
   "execution_count": 1,
   "metadata": {},
   "outputs": [
    {
     "name": "stderr",
     "output_type": "stream",
     "text": [
      "C:\\Users\\Maria\\Anaconda3\\lib\\site-packages\\gensim\\utils.py:1197: UserWarning: detected Windows; aliasing chunkize to chunkize_serial\n",
      "  warnings.warn(\"detected Windows; aliasing chunkize to chunkize_serial\")\n"
     ]
    }
   ],
   "source": [
    "import sys\n",
    "sys.path.append('../..')\n",
    "import src.data.data_loader as dl\n",
    "from src.features.vectorizer import Vectorizer\n",
    "from src.models.topic_models import TopicModel\n",
    "import pandas as pd"
   ]
  },
  {
   "cell_type": "markdown",
   "metadata": {},
   "source": [
    "#### Load german and english articles"
   ]
  },
  {
   "cell_type": "code",
   "execution_count": 16,
   "metadata": {},
   "outputs": [],
   "source": [
    "tm_german_articles =TopicModel.load(\"topic_models/lda/DEED_lda_german_editorial_articles_190.pkl\")"
   ]
  },
  {
   "cell_type": "code",
   "execution_count": 17,
   "metadata": {},
   "outputs": [],
   "source": [
    "tm_english_articles = TopicModel.load(\"topic_models/lda/ENED_lda_english_editorial_articles_130.pkl\")"
   ]
  },
  {
   "cell_type": "markdown",
   "metadata": {},
   "source": [
    "#### Load topics for english and german comments 150 "
   ]
  },
  {
   "cell_type": "code",
   "execution_count": 25,
   "metadata": {},
   "outputs": [],
   "source": [
    "tm_german_comments_lda150 = TopicModel.load(\"finalize_topicmodels/lda/lda_german_comments_combined_final_comments_150.pkl\")\n",
    "tm_german_comments_nmf150 = TopicModel.load(\"finalize_topicmodels/nmf/nmf_german_comments_combined_final_comments_150.pkl\")\n",
    "tm_english_comments_nmf150 = TopicModel.load(\"finalize_topicmodels/nmf/nmf_english_comments_combined_final_comments_150.pkl\")\n",
    "tm_english_comments_lda150 = TopicModel.load(\"finalize_topicmodels/lda/lda_english_comments_combined_final_comments_150.pkl\")"
   ]
  },
  {
   "cell_type": "markdown",
   "metadata": {},
   "source": [
    "#### Load topics for english and german comments 130 "
   ]
  },
  {
   "cell_type": "code",
   "execution_count": null,
   "metadata": {},
   "outputs": [],
   "source": [
    "tm_german_comments_lda = TopicModel.load(\"finalize_topicmodels/lda/lda_german_comments_combined_final_comments_130.pkl\")\n",
    "tm_german_comments_nmf = TopicModel.load(\"finalize_topicmodels/nmf/nmf_german_comments_combined_final_comments_130.pkl\")\n",
    "tm_english_comments_nmf = TopicModel.load(\"finalize_topicmodels/nmf/nmf_english_comments_combined_final_comments_130.pkl\")\n",
    "tm_english_comments_lda = TopicModel.load(\"finalize_topicmodels/lda/lda_english_comments_combined_final_comments_130.pkl\")"
   ]
  },
  {
   "cell_type": "markdown",
   "metadata": {},
   "source": [
    "#### Load topics for english and german comments 125 "
   ]
  },
  {
   "cell_type": "code",
   "execution_count": 26,
   "metadata": {},
   "outputs": [],
   "source": [
    "tm_german_comments_lda125 = TopicModel.load(\"finalize_topicmodels/lda/lda_german_comments_combined_final_comments_125.pkl\")\n",
    "tm_german_comments_nmf125 = TopicModel.load(\"finalize_topicmodels/nmf/nmf_german_comments_combined_final_comments_125.pkl\")\n",
    "tm_english_comments_nmf125 = TopicModel.load(\"finalize_topicmodels/nmf/nmf_english_comments_combined_final_comments_125.pkl\")\n",
    "tm_english_comments_lda125 = TopicModel.load(\"finalize_topicmodels/lda/lda_english_comments_combined_final_comments_125.pkl\")"
   ]
  },
  {
   "cell_type": "markdown",
   "metadata": {},
   "source": [
    "#### Load topics for english and german comments 100"
   ]
  },
  {
   "cell_type": "code",
   "execution_count": 2,
   "metadata": {},
   "outputs": [],
   "source": [
    "tm_german_comments_lda100 = TopicModel.load(\"finalize_topicmodels/lda/lda_german_comments_combined_final_comments_100.pkl\")\n",
    "tm_german_comments_nmf100 = TopicModel.load(\"finalize_topicmodels/nmf/nmf_german_comments_combined_final_comments_100.pkl\")\n",
    "tm_english_comments_nmf100 = TopicModel.load(\"finalize_topicmodels/nmf/nmf_english_comments_combined_final_comments_100.pkl\")\n",
    "tm_english_comments_lda100 = TopicModel.load(\"finalize_topicmodels/lda/lda_english_comments_combined_final_comments_100.pkl\")"
   ]
  },
  {
   "cell_type": "markdown",
   "metadata": {},
   "source": [
    "#### Save in Excelsheet"
   ]
  },
  {
   "cell_type": "markdown",
   "metadata": {},
   "source": [
    "#### 150 topics"
   ]
  },
  {
   "cell_type": "code",
   "execution_count": 29,
   "metadata": {},
   "outputs": [],
   "source": [
    "writer = pd.ExcelWriter('Final topics150.xlsx')\n",
    "tm_german_articles.get_topics_dataframe().to_excel(writer,(\"German articles\"))\n",
    "tm_english_articles.get_topics_dataframe().to_excel(writer,(\"English articles\"))\n",
    "tm_german_comments_lda150.get_topics_dataframe().to_excel(writer,(\"German comments lda 150\"))\n",
    "tm_german_comments_nmf150.get_topics_dataframe().to_excel(writer,(\"German comments nmf 150\"))\n",
    "tm_english_comments_nmf150.get_topics_dataframe().to_excel(writer,(\"English comments nmf 150\"))\n",
    "tm_english_comments_lda150.get_topics_dataframe().to_excel(writer,(\"English comments lda 150\"))\n",
    "writer.save()"
   ]
  },
  {
   "cell_type": "markdown",
   "metadata": {},
   "source": [
    "#### 130 topics"
   ]
  },
  {
   "cell_type": "code",
   "execution_count": null,
   "metadata": {},
   "outputs": [],
   "source": [
    "writer = pd.ExcelWriter('Final topics.xlsx')\n",
    "tm_german_articles.get_topics_dataframe().to_excel(writer,(\"German articles\"))\n",
    "tm_english_articles.get_topics_dataframe().to_excel(writer,(\"English articles\"))\n",
    "tm_german_comments_lda.get_topics_dataframe().to_excel(writer,(\"German comments with lda 130\"))\n",
    "tm_german_comments_nmf.get_topics_dataframe().to_excel(writer,(\"German comments with nmf 130\"))\n",
    "tm_english_comments_nmf.get_topics_dataframe().to_excel(writer,(\"English comments with lda 130\"))\n",
    "tm_english_comments_lda.get_topics_dataframe().to_excel(writer,(\"English comments with nmf 130\"))\n",
    "writer.save()"
   ]
  },
  {
   "cell_type": "markdown",
   "metadata": {},
   "source": [
    "#### 125 topics"
   ]
  },
  {
   "cell_type": "code",
   "execution_count": 30,
   "metadata": {},
   "outputs": [],
   "source": [
    "writer = pd.ExcelWriter('Final topics125.xlsx')\n",
    "tm_german_articles.get_topics_dataframe().to_excel(writer,(\"German articles\"))\n",
    "tm_english_articles.get_topics_dataframe().to_excel(writer,(\"English articles\"))\n",
    "tm_german_comments_lda125.get_topics_dataframe().to_excel(writer,(\"German comments lda 125\"))\n",
    "tm_german_comments_nmf125.get_topics_dataframe().to_excel(writer,(\"German comments nmf 125\"))\n",
    "tm_english_comments_nmf125.get_topics_dataframe().to_excel(writer,(\"English comments nmf 125\"))\n",
    "tm_english_comments_lda125.get_topics_dataframe().to_excel(writer,(\"English comments lda 125\"))\n",
    "writer.save()"
   ]
  },
  {
   "cell_type": "markdown",
   "metadata": {},
   "source": [
    "#### 100 topics"
   ]
  },
  {
   "cell_type": "code",
   "execution_count": 23,
   "metadata": {},
   "outputs": [],
   "source": [
    "writer = pd.ExcelWriter('Final topics100.xlsx')\n",
    "tm_german_articles.get_topics_dataframe().to_excel(writer,(\"German articles\"))\n",
    "tm_english_articles.get_topics_dataframe().to_excel(writer,(\"English articles\"))\n",
    "tm_german_comments_lda100.get_topics_dataframe().to_excel(writer,(\"German comments lda\"))\n",
    "tm_german_comments_nmf100.get_topics_dataframe().to_excel(writer,(\"German comments nmf\"))\n",
    "tm_english_comments_nmf100.get_topics_dataframe().to_excel(writer,(\"English comments nmf\"))\n",
    "tm_english_comments_lda100.get_topics_dataframe().to_excel(writer,(\"English comments lda\"))\n",
    "writer.save()"
   ]
  },
  {
   "cell_type": "markdown",
   "metadata": {},
   "source": [
    "#### 75 topics"
   ]
  },
  {
   "cell_type": "code",
   "execution_count": null,
   "metadata": {},
   "outputs": [],
   "source": [
    "writer = pd.ExcelWriter('Final topics75.xlsx')\n",
    "tm_german_articles.get_topics_dataframe().to_excel(writer,(\"German articles\"))\n",
    "tm_english_articles.get_topics_dataframe().to_excel(writer,(\"English articles\"))\n",
    "tm_german_comments_lda100.get_topics_dataframe().to_excel(writer,(\"German comments lda\"))\n",
    "tm_german_comments_nmf100.get_topics_dataframe().to_excel(writer,(\"German comments nmf\"))\n",
    "tm_english_comments_nmf100.get_topics_dataframe().to_excel(writer,(\"English comments nmf\"))\n",
    "tm_english_comments_lda100.get_topics_dataframe().to_excel(writer,(\"English comments lda\"))\n",
    "writer.save()"
   ]
  }
 ],
 "metadata": {
  "kernelspec": {
   "display_name": "Python 3",
   "language": "python",
   "name": "python3"
  },
  "language_info": {
   "codemirror_mode": {
    "name": "ipython",
    "version": 3
   },
   "file_extension": ".py",
   "mimetype": "text/x-python",
   "name": "python",
   "nbconvert_exporter": "python",
   "pygments_lexer": "ipython3",
   "version": "3.6.4"
  }
 },
 "nbformat": 4,
 "nbformat_minor": 2
}
