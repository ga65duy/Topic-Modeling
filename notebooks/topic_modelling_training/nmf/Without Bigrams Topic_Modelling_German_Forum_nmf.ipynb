{
 "cells": [
  {
   "cell_type": "code",
   "execution_count": 1,
   "metadata": {},
   "outputs": [
    {
     "name": "stderr",
     "output_type": "stream",
     "text": [
      "C:\\Users\\Maria\\Anaconda3\\lib\\site-packages\\gensim\\utils.py:1197: UserWarning: detected Windows; aliasing chunkize to chunkize_serial\n",
      "  warnings.warn(\"detected Windows; aliasing chunkize to chunkize_serial\")\n"
     ]
    }
   ],
   "source": [
    "import sys\n",
    "sys.path.append('../../..')\n",
    "import src.data.data_loader as dl\n",
    "from src.features.vectorizer import Vectorizer\n",
    "from src.models.topic_models import TopicModel\n",
    "import pandas as pd\n",
    "import sklearn.utils as skutil\n",
    "pd.set_option('display.max_rows', None)"
   ]
  },
  {
   "cell_type": "code",
   "execution_count": 2,
   "metadata": {},
   "outputs": [],
   "source": [
    "# Data \n",
    "language = 'german'\n",
    "typex = 'forum'\n",
    "# Vectorization\n",
    "min_df = 0.005\n",
    "max_df = 0.9\n",
    "\n",
    "# Topic Modeling\n",
    "algorithm = 'nmf'\n",
    "num_topics = 170"
   ]
  },
  {
   "cell_type": "code",
   "execution_count": 3,
   "metadata": {},
   "outputs": [],
   "source": [
    "data = dl.get_forum_threads_by_language(language, typex)\n",
    "texts = data['thread_texts']\n",
    "\n",
    "def min_length (texts,min_characters):\n",
    "    neu = []\n",
    "    for t in texts: \n",
    "        token_perdoc_list = t.split()\n",
    "        token_min_character = []\n",
    "        for token in token_perdoc_list: \n",
    "            if len(token)>= min_characters: \n",
    "                token_min_character.append(token)\n",
    "        joined = (\" \").join(token_min_character)\n",
    "        neu.append(joined)\n",
    "    return neu\n",
    "\n",
    "texts = min_length(texts,3)"
   ]
  },
  {
   "cell_type": "code",
   "execution_count": 4,
   "metadata": {},
   "outputs": [],
   "source": [
    "vec = Vectorizer('tfidf', texts, min_df=min_df, max_df=max_df)\n",
    "vec.save('{}_{}_{}_{}.pkl'.format(algorithm, language, typex,\"without_bigrams\"))\n",
    "\n",
    "document_term_matrix = vec.get_document_token_matrix(texts)\n",
    "id2token = vec.get_id2token_mapping()\n",
    "document_term_matrix = skutil.shuffle(document_term_matrix, random_state=1)"
   ]
  },
  {
   "cell_type": "code",
   "execution_count": 5,
   "metadata": {},
   "outputs": [],
   "source": [
    "vec = Vectorizer('tf', texts, min_df=min_df, max_df=max_df)\n",
    "vec.save('{}_{}_{}_{}_tf.pkl'.format(algorithm, language, typex,\"without_bigrams\"))"
   ]
  },
  {
   "cell_type": "code",
   "execution_count": 6,
   "metadata": {},
   "outputs": [
    {
     "name": "stdout",
     "output_type": "stream",
     "text": [
      "Epoch 10 reached after 0.871 seconds, error: 19.223784\n",
      "Epoch 20 reached after 1.683 seconds, error: 18.752224\n",
      "Epoch 30 reached after 2.534 seconds, error: 18.605462\n",
      "Epoch 40 reached after 3.424 seconds, error: 18.540996\n",
      "Epoch 50 reached after 4.259 seconds, error: 18.507640\n",
      "Epoch 60 reached after 5.088 seconds, error: 18.486493\n",
      "Epoch 70 reached after 5.967 seconds, error: 18.468588\n",
      "Epoch 80 reached after 6.869 seconds, error: 18.454236\n",
      "Epoch 90 reached after 7.821 seconds, error: 18.442647\n",
      "Epoch 100 reached after 8.812 seconds, error: 18.433230\n",
      "Epoch 110 reached after 9.817 seconds, error: 18.426490\n",
      "Epoch 120 reached after 10.898 seconds, error: 18.421391\n",
      "Epoch 130 reached after 11.988 seconds, error: 18.416923\n",
      "Epoch 140 reached after 13.097 seconds, error: 18.413709\n",
      "Epoch 150 reached after 14.192 seconds, error: 18.411207\n",
      "Epoch 160 reached after 15.304 seconds, error: 18.409033\n",
      "Epoch 170 reached after 16.433 seconds, error: 18.407223\n",
      "Epoch 180 reached after 17.595 seconds, error: 18.405360\n",
      "Epoch 190 reached after 18.776 seconds, error: 18.403829\n",
      "Epoch 200 reached after 20.039 seconds, error: 18.402281\n",
      "\n"
     ]
    },
    {
     "name": "stderr",
     "output_type": "stream",
     "text": [
      "C:\\Users\\Maria\\Anaconda3\\lib\\site-packages\\sklearn\\decomposition\\nmf.py:1035: ConvergenceWarning: Maximum number of iteration 200 reached. Increase it to improve convergence.\n",
      "  \" improve convergence.\" % max_iter, ConvergenceWarning)\n"
     ]
    }
   ],
   "source": [
    "model = TopicModel('nmf',num_topics, document_term_matrix, id2token)\n",
    "model.save('{}_{}_{}_{}{}.pkl'.format(algorithm, language, typex,\"without_bigrams\",num_topics))"
   ]
  },
  {
   "cell_type": "code",
   "execution_count": null,
   "metadata": {},
   "outputs": [],
   "source": []
  }
 ],
 "metadata": {
  "kernelspec": {
   "display_name": "Python 3",
   "language": "python",
   "name": "python3"
  },
  "language_info": {
   "codemirror_mode": {
    "name": "ipython",
    "version": 3
   },
   "file_extension": ".py",
   "mimetype": "text/x-python",
   "name": "python",
   "nbconvert_exporter": "python",
   "pygments_lexer": "ipython3",
   "version": "3.6.4"
  }
 },
 "nbformat": 4,
 "nbformat_minor": 2
}
