{
 "cells": [
  {
   "cell_type": "code",
   "execution_count": 1,
   "metadata": {},
   "outputs": [
    {
     "name": "stderr",
     "output_type": "stream",
     "text": [
      "C:\\Users\\Maria\\Anaconda3\\lib\\site-packages\\gensim\\utils.py:1197: UserWarning: detected Windows; aliasing chunkize to chunkize_serial\n",
      "  warnings.warn(\"detected Windows; aliasing chunkize to chunkize_serial\")\n"
     ]
    }
   ],
   "source": [
    "import sys\n",
    "sys.path.append('../../..')\n",
    "import src.data.data_loader as dl\n",
    "from src.features.vectorizer import Vectorizer\n",
    "from src.models.topic_models import TopicModel\n",
    "import pandas as pd\n",
    "import sklearn.utils as skutil\n",
    "pd.set_option('display.max_rows', None)"
   ]
  },
  {
   "cell_type": "code",
   "execution_count": 2,
   "metadata": {},
   "outputs": [],
   "source": [
    "# Data \n",
    "language = 'english'\n",
    "typex = 'editorial'\n",
    "\n",
    "# Vectorization\n",
    "min_df = 0.005\n",
    "max_df = 0.9\n",
    "\n",
    "# Topic Modeling\n",
    "algorithm = 'nmf'\n",
    "num_topics = 170"
   ]
  },
  {
   "cell_type": "code",
   "execution_count": 3,
   "metadata": {},
   "outputs": [],
   "source": [
    "data = dl.get_comments_by_type(language, typex)\n",
    "texts = data['comment_texts']\n",
    "\n",
    "def min_length (texts,min_characters):\n",
    "    neu = []\n",
    "    for t in texts: \n",
    "        token_perdoc_list = t.split()\n",
    "        token_min_character = []\n",
    "        for token in token_perdoc_list: \n",
    "            if len(token)>= min_characters: \n",
    "                token_min_character.append(token)\n",
    "        joined = (\" \").join(token_min_character)\n",
    "        neu.append(joined)\n",
    "    return neu\n",
    "\n",
    "texts = min_length(texts,3)"
   ]
  },
  {
   "cell_type": "code",
   "execution_count": 4,
   "metadata": {},
   "outputs": [],
   "source": [
    "vec = Vectorizer('tfidf', texts, min_df=min_df, max_df=max_df)\n",
    "vec.save('{}_{}_{}_{}.pkl'.format(algorithm, language, typex,\"without_bigrams\"))\n",
    "\n",
    "document_term_matrix = vec.get_document_token_matrix(texts)\n",
    "id2token = vec.get_id2token_mapping()\n",
    "document_term_matrix = skutil.shuffle(document_term_matrix, random_state=1)"
   ]
  },
  {
   "cell_type": "code",
   "execution_count": 5,
   "metadata": {},
   "outputs": [
    {
     "name": "stderr",
     "output_type": "stream",
     "text": [
      "C:\\Users\\Maria\\Anaconda3\\lib\\site-packages\\sklearn\\decomposition\\nmf.py:1035: ConvergenceWarning: Maximum number of iteration 200 reached. Increase it to improve convergence.\n",
      "  \" improve convergence.\" % max_iter, ConvergenceWarning)\n"
     ]
    },
    {
     "name": "stdout",
     "output_type": "stream",
     "text": [
      "Epoch 10 reached after 4.256 seconds, error: 12.766315\n",
      "Epoch 20 reached after 8.414 seconds, error: 12.187430\n",
      "Epoch 30 reached after 12.432 seconds, error: 12.032349\n",
      "Epoch 40 reached after 16.538 seconds, error: 11.965479\n",
      "Epoch 50 reached after 20.546 seconds, error: 11.927174\n",
      "Epoch 60 reached after 24.578 seconds, error: 11.902046\n",
      "Epoch 70 reached after 28.508 seconds, error: 11.886273\n",
      "Epoch 80 reached after 32.818 seconds, error: 11.875049\n",
      "Epoch 90 reached after 36.957 seconds, error: 11.866902\n",
      "Epoch 100 reached after 40.402 seconds, error: 11.860696\n",
      "Epoch 110 reached after 43.870 seconds, error: 11.855719\n",
      "Epoch 120 reached after 47.423 seconds, error: 11.851931\n",
      "Epoch 130 reached after 51.016 seconds, error: 11.848539\n",
      "Epoch 140 reached after 54.507 seconds, error: 11.845601\n",
      "Epoch 150 reached after 58.193 seconds, error: 11.842895\n",
      "Epoch 160 reached after 61.755 seconds, error: 11.840503\n",
      "Epoch 170 reached after 65.260 seconds, error: 11.838296\n",
      "Epoch 180 reached after 68.944 seconds, error: 11.836146\n",
      "Epoch 190 reached after 72.805 seconds, error: 11.834364\n",
      "Epoch 200 reached after 76.734 seconds, error: 11.832845\n",
      "\n"
     ]
    }
   ],
   "source": [
    "model = TopicModel('nmf',num_topics, document_term_matrix, id2token)\n",
    "model.save('{}_{}_{}_{}_comments{}.pkl'.format(algorithm, language, typex,\"without_bigrams\",num_topics))"
   ]
  },
  {
   "cell_type": "code",
   "execution_count": null,
   "metadata": {},
   "outputs": [],
   "source": []
  }
 ],
 "metadata": {
  "kernelspec": {
   "display_name": "Python 3",
   "language": "python",
   "name": "python3"
  },
  "language_info": {
   "codemirror_mode": {
    "name": "ipython",
    "version": 3
   },
   "file_extension": ".py",
   "mimetype": "text/x-python",
   "name": "python",
   "nbconvert_exporter": "python",
   "pygments_lexer": "ipython3",
   "version": "3.6.4"
  }
 },
 "nbformat": 4,
 "nbformat_minor": 2
}
