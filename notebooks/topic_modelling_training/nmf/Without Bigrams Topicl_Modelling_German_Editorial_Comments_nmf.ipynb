{
 "cells": [
  {
   "cell_type": "code",
   "execution_count": 1,
   "metadata": {},
   "outputs": [
    {
     "name": "stderr",
     "output_type": "stream",
     "text": [
      "C:\\Users\\Maria\\Anaconda3\\lib\\site-packages\\gensim\\utils.py:1197: UserWarning: detected Windows; aliasing chunkize to chunkize_serial\n",
      "  warnings.warn(\"detected Windows; aliasing chunkize to chunkize_serial\")\n"
     ]
    }
   ],
   "source": [
    "import sys\n",
    "sys.path.append('../../..')\n",
    "import src.data.data_loader as dl\n",
    "from src.features.vectorizer import Vectorizer\n",
    "from src.models.topic_models import TopicModel\n",
    "import pandas as pd\n",
    "import sklearn.utils as skutil\n",
    "pd.set_option('display.max_rows', None)"
   ]
  },
  {
   "cell_type": "code",
   "execution_count": 2,
   "metadata": {},
   "outputs": [],
   "source": [
    "# Data \n",
    "language = 'german'\n",
    "typex = 'editorial'\n",
    "aggregation = 'article'\n",
    "\n",
    "# Vectorization\n",
    "min_df = 0.005\n",
    "max_df = 0.9\n",
    "\n",
    "# Topic Modeling\n",
    "algorithm = 'nmf'\n",
    "num_topics = 170"
   ]
  },
  {
   "cell_type": "code",
   "execution_count": 3,
   "metadata": {},
   "outputs": [],
   "source": [
    "data = dl.get_comments_by_type(language, typex, aggregation)\n",
    "texts = data['comment_texts']\n",
    "\n",
    "def min_length (texts,min_characters):\n",
    "    neu = []\n",
    "    for t in texts: \n",
    "        token_perdoc_list = t.split()\n",
    "        token_min_character = []\n",
    "        for token in token_perdoc_list: \n",
    "            if len(token)>= min_characters: \n",
    "                token_min_character.append(token)\n",
    "        joined = (\" \").join(token_min_character)\n",
    "        neu.append(joined)\n",
    "    return neu\n",
    "\n",
    "texts = min_length(texts,3)"
   ]
  },
  {
   "cell_type": "code",
   "execution_count": 4,
   "metadata": {},
   "outputs": [
    {
     "data": {
      "text/plain": [
       "(1782, 15193)"
      ]
     },
     "metadata": {},
     "output_type": "display_data"
    }
   ],
   "source": [
    "vec = Vectorizer('tfidf', texts, min_df=min_df, max_df=max_df)\n",
    "vec.save('{}_{}_{}_{}.pkl'.format(algorithm, language, typex,\"without_bigrams\"))\n",
    "\n",
    "document_term_matrix = vec.get_document_token_matrix(texts)\n",
    "id2token = vec.get_id2token_mapping()\n",
    "document_term_matrix = skutil.shuffle(document_term_matrix, random_state=1)\n",
    "display(document_term_matrix.shape)"
   ]
  },
  {
   "cell_type": "code",
   "execution_count": 5,
   "metadata": {},
   "outputs": [
    {
     "data": {
      "text/plain": [
       "(1782, 15193)"
      ]
     },
     "metadata": {},
     "output_type": "display_data"
    }
   ],
   "source": [
    "vec = Vectorizer('tf', texts, min_df=min_df, max_df=max_df)\n",
    "vec.save('{}_{}_{}_{}_tf.pkl'.format(algorithm, language, typex,\"without_bigrams\"))\n",
    "\n",
    "document_term_matrix = vec.get_document_token_matrix(texts)\n",
    "id2token = vec.get_id2token_mapping()\n",
    "document_term_matrix = skutil.shuffle(document_term_matrix, random_state=1)\n",
    "display(document_term_matrix.shape)"
   ]
  },
  {
   "cell_type": "code",
   "execution_count": 6,
   "metadata": {},
   "outputs": [
    {
     "name": "stdout",
     "output_type": "stream",
     "text": [
      "Epoch 10 reached after 3.880 seconds, error: 1978.139117\n",
      "Epoch 20 reached after 7.865 seconds, error: 1502.821263\n",
      "Epoch 30 reached after 11.324 seconds, error: 1266.205945\n",
      "Epoch 40 reached after 15.099 seconds, error: 1148.841230\n",
      "Epoch 50 reached after 19.174 seconds, error: 1083.149785\n",
      "Epoch 60 reached after 24.172 seconds, error: 1042.004720\n",
      "Epoch 70 reached after 28.229 seconds, error: 1015.616571\n",
      "Epoch 80 reached after 32.658 seconds, error: 996.259176\n",
      "Epoch 90 reached after 36.415 seconds, error: 981.397003\n",
      "Epoch 100 reached after 40.407 seconds, error: 968.460386\n",
      "Epoch 110 reached after 44.436 seconds, error: 957.803896\n",
      "Epoch 120 reached after 48.154 seconds, error: 949.710331\n",
      "Epoch 130 reached after 51.713 seconds, error: 944.205870\n",
      "Epoch 140 reached after 55.339 seconds, error: 939.597822\n",
      "Epoch 150 reached after 58.930 seconds, error: 935.350011\n",
      "Epoch 160 reached after 62.757 seconds, error: 932.126030\n",
      "Epoch 170 reached after 66.456 seconds, error: 929.483656\n",
      "Epoch 180 reached after 70.269 seconds, error: 927.147572\n",
      "Epoch 190 reached after 74.391 seconds, error: 925.179270\n",
      "Epoch 200 reached after 79.089 seconds, error: 923.458569\n",
      "\n"
     ]
    },
    {
     "name": "stderr",
     "output_type": "stream",
     "text": [
      "C:\\Users\\Maria\\Anaconda3\\lib\\site-packages\\sklearn\\decomposition\\nmf.py:1035: ConvergenceWarning: Maximum number of iteration 200 reached. Increase it to improve convergence.\n",
      "  \" improve convergence.\" % max_iter, ConvergenceWarning)\n"
     ]
    },
    {
     "data": {
      "text/plain": [
       "(170, 15193)"
      ]
     },
     "metadata": {},
     "output_type": "display_data"
    }
   ],
   "source": [
    "model = TopicModel(algorithm, num_topics, document_term_matrix, id2token)\n",
    "#model.save('{}_{}_{}_{}_comments_{}.pkl'.format(algorithm, language, typex,\"without_bigrams\",num_topics))\n",
    "display(model.get_topic_token_matrix().shape)"
   ]
  },
  {
   "cell_type": "code",
   "execution_count": null,
   "metadata": {},
   "outputs": [],
   "source": []
  }
 ],
 "metadata": {
  "kernelspec": {
   "display_name": "Python 3",
   "language": "python",
   "name": "python3"
  },
  "language_info": {
   "codemirror_mode": {
    "name": "ipython",
    "version": 3
   },
   "file_extension": ".py",
   "mimetype": "text/x-python",
   "name": "python",
   "nbconvert_exporter": "python",
   "pygments_lexer": "ipython3",
   "version": "3.6.4"
  }
 },
 "nbformat": 4,
 "nbformat_minor": 2
}
