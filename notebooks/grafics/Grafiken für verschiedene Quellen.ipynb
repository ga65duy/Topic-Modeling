{
 "cells": [
  {
   "cell_type": "code",
   "execution_count": 1,
   "metadata": {},
   "outputs": [
    {
     "name": "stderr",
     "output_type": "stream",
     "text": [
      "C:\\Users\\Maria\\Anaconda3\\lib\\site-packages\\gensim\\utils.py:1197: UserWarning: detected Windows; aliasing chunkize to chunkize_serial\n",
      "  warnings.warn(\"detected Windows; aliasing chunkize to chunkize_serial\")\n"
     ]
    }
   ],
   "source": [
    "import sys\n",
    "sys.path.append('../..')\n",
    "import src.data.data_loader as dl\n",
    "from src.features.vectorizer import Vectorizer\n",
    "from src.models.topic_models import TopicModel"
   ]
  },
  {
   "cell_type": "code",
   "execution_count": 2,
   "metadata": {
    "scrolled": true
   },
   "outputs": [
    {
     "data": {
      "text/plain": [
       "['mcdonald happy meals bit healthy start november make kid meal include organic apple juice replace traditional juice contain sugar new juice make honest kids honest tea organic beverage company purchase coca_cola coca_cola minute maid currently supply apple juice box happy meals commitment mcdonald raise bar food spokeswoman becca hary committed continue food journey benefit guest young customer opt container fat milk fat free chocolate milk 6-ounce box honest kids organic appley yes play word contain calorie gram sugar minute maid apple juice box size calorie gram sugar accord respective website type make concentrate happy honest tea brand founder seth_goldman write brand website hop day way make drink available just natural food store love store americans affordable price switch organic sugary juice large trend eat healthily fast food industry point reason americans include child bad eat habit ultimately lead obesity heart disease diabetes health issue organic food popular year sale organic grocery reach $ year accord washington d.c base organic trade association make change attempt present happy meals healthy parent upmarket set low sugar drink appeal hope bring mcdonald view happy meals good option kid explain ernest baskin assistant professor food marketing st. joseph university feel lose bunch people want kid eat healthy mcdonald introduce apple slice happy meal today happy meal option include mandarin orange yoplait gurt low fat strawberry yogurt',\n",
       " 'organic food sale set record mainstream americans shopping cart egg gummy fruit snack shed hippy dippy image organic food faster grow category supermarket add food study vary come perceive health benefit organic food producer include giant general mills capture consumer business coach patty lennon brookfield connecticut produce healthy way pesticide bad thing contaminate growth food growth kid 45-year old mother kid grow want know right thing body sure organic cost lennon estimate $ spend grocery weekly drop $ $ buy usual non organic product luxury able afford million shopper like sale organic food hit record $ year previous year accord organic trade association base washington d.c compare growth rate overall food category long way overall organic food represent total retail food sale u.s. organic product boom conscientious consumer thank rise income strong economy improved farming practice make organic yield robust demand organic extend supermarket aisle multitude farmer market spring organic rise importance underscore amazon offer month buy foods market upscale grocery chain know expansive produce selection $ increase awareness organic product rupesh parikh investment bank oppenheimer senior analyst food grocery consumer product predict continue double_digit annual growth consumer really look eat popular organic item fruit vegetable account close organic food sale organic trade association organic produce sale grow twice rate total fruit vegetable sale veggie fruit consume u.s. organic consumer desire nutritious chemically laden food come willingness pay shopper pay additional organic fresh vegetable willing hand cash organic poultry study hartman group food beverage research firm bellevue washington wonder large food company diversify portfolio include organic product finally conventional food beverage industry wake niche anymore eat share hartman group senior vice president shelley balanko campbell soup plum organics baby food line bolthouse farms salad_dressing juice coca_cola organic honest tea hormel lineup include organic meat label applegate farms general mills organic portfolio grow past year natural organic sale $ year grow double_digit clip minneapolis base cereal maker venture organic purchase small planet foods produce variety organic food ketchup granola bar general mills acquire annie feature fruit snack cereal cookie food value consumer look shift try responsive carla vernon general mills vice president natural organic portfolio grow popularity organic food open door price cutter sprouts_farmers market chain instance organic alternative foods mainstream supermarket giant cincinnati base kroger operate variety chain nation dedicate floor shelf space organic product customer migration traditional grocery organic good come low price shopper organic profit margin generally high conventional grocery product available retailer pressure gross margin profitability parikh available supply chain impact']"
      ]
     },
     "metadata": {},
     "output_type": "display_data"
    }
   ],
   "source": [
    "#english/german\n",
    "#editorial,forum (blog weggelassen)\n",
    "data = dl.get_articles_by_type(\"english\",\"editorial\")\n",
    "texts = data['article_texts']\n",
    "text= texts [:2]\n",
    "display(texts[:2])\n"
   ]
  },
  {
   "cell_type": "code",
   "execution_count": 3,
   "metadata": {},
   "outputs": [
    {
     "name": "stdout",
     "output_type": "stream",
     "text": [
      "[['mcdonald', 'happy', 'meals', 'bit', 'healthy', 'start', 'november', 'make', 'kid', 'meal', 'include', 'organic', 'apple', 'juice', 'replace', 'traditional', 'juice', 'contain', 'sugar', 'new', 'juice', 'make', 'honest', 'kids', 'honest', 'tea', 'organic', 'beverage', 'company', 'purchase', 'coca_cola', 'coca_cola', 'minute', 'maid', 'currently', 'supply', 'apple', 'juice', 'box', 'happy', 'meals', 'commitment', 'mcdonald', 'raise', 'bar', 'food', 'spokeswoman', 'becca', 'hary', 'committed', 'continue', 'food', 'journey', 'benefit', 'guest', 'young', 'customer', 'opt', 'container', 'fat', 'milk', 'fat', 'free', 'chocolate', 'milk', '6-ounce', 'box', 'honest', 'kids', 'organic', 'appley', 'yes', 'play', 'word', 'contain', 'calorie', 'gram', 'sugar', 'minute', 'maid', 'apple', 'juice', 'box', 'size', 'calorie', 'gram', 'sugar', 'accord', 'respective', 'website', 'type', 'make', 'concentrate', 'happy', 'honest', 'tea', 'brand', 'founder', 'seth_goldman', 'write', 'brand', 'website', 'hop', 'day', 'way', 'make', 'drink', 'available', 'just', 'natural', 'food', 'store', 'love', 'store', 'americans', 'affordable', 'price', 'switch', 'organic', 'sugary', 'juice', 'large', 'trend', 'eat', 'healthily', 'fast', 'food', 'industry', 'point', 'reason', 'americans', 'include', 'child', 'bad', 'eat', 'habit', 'ultimately', 'lead', 'obesity', 'heart', 'disease', 'diabetes', 'health', 'issue', 'organic', 'food', 'popular', 'year', 'sale', 'organic', 'grocery', 'reach', '$', 'year', 'accord', 'washington', 'd.c', 'base', 'organic', 'trade', 'association', 'make', 'change', 'attempt', 'present', 'happy', 'meals', 'healthy', 'parent', 'upmarket', 'set', 'low', 'sugar', 'drink', 'appeal', 'hope', 'bring', 'mcdonald', 'view', 'happy', 'meals', 'good', 'option', 'kid', 'explain', 'ernest', 'baskin', 'assistant', 'professor', 'food', 'marketing', 'st.', 'joseph', 'university', 'feel', 'lose', 'bunch', 'people', 'want', 'kid', 'eat', 'healthy', 'mcdonald', 'introduce', 'apple', 'slice', 'happy', 'meal', 'today', 'happy', 'meal', 'option', 'include', 'mandarin', 'orange', 'yoplait', 'gurt', 'low', 'fat', 'strawberry', 'yogurt'], ['organic', 'food', 'sale', 'set', 'record', 'mainstream', 'americans', 'shopping', 'cart', 'egg', 'gummy', 'fruit', 'snack', 'shed', 'hippy', 'dippy', 'image', 'organic', 'food', 'faster', 'grow', 'category', 'supermarket', 'add', 'food', 'study', 'vary', 'come', 'perceive', 'health', 'benefit', 'organic', 'food', 'producer', 'include', 'giant', 'general', 'mills', 'capture', 'consumer', 'business', 'coach', 'patty', 'lennon', 'brookfield', 'connecticut', 'produce', 'healthy', 'way', 'pesticide', 'bad', 'thing', 'contaminate', 'growth', 'food', 'growth', 'kid', '45-year', 'old', 'mother', 'kid', 'grow', 'want', 'know', 'right', 'thing', 'body', 'sure', 'organic', 'cost', 'lennon', 'estimate', '$', 'spend', 'grocery', 'weekly', 'drop', '$', '$', 'buy', 'usual', 'non', 'organic', 'product', 'luxury', 'able', 'afford', 'million', 'shopper', 'like', 'sale', 'organic', 'food', 'hit', 'record', '$', 'year', 'previous', 'year', 'accord', 'organic', 'trade', 'association', 'base', 'washington', 'd.c', 'compare', 'growth', 'rate', 'overall', 'food', 'category', 'long', 'way', 'overall', 'organic', 'food', 'represent', 'total', 'retail', 'food', 'sale', 'u.s.', 'organic', 'product', 'boom', 'conscientious', 'consumer', 'thank', 'rise', 'income', 'strong', 'economy', 'improved', 'farming', 'practice', 'make', 'organic', 'yield', 'robust', 'demand', 'organic', 'extend', 'supermarket', 'aisle', 'multitude', 'farmer', 'market', 'spring', 'organic', 'rise', 'importance', 'underscore', 'amazon', 'offer', 'month', 'buy', 'foods', 'market', 'upscale', 'grocery', 'chain', 'know', 'expansive', 'produce', 'selection', '$', 'increase', 'awareness', 'organic', 'product', 'rupesh', 'parikh', 'investment', 'bank', 'oppenheimer', 'senior', 'analyst', 'food', 'grocery', 'consumer', 'product', 'predict', 'continue', 'double_digit', 'annual', 'growth', 'consumer', 'really', 'look', 'eat', 'popular', 'organic', 'item', 'fruit', 'vegetable', 'account', 'close', 'organic', 'food', 'sale', 'organic', 'trade', 'association', 'organic', 'produce', 'sale', 'grow', 'twice', 'rate', 'total', 'fruit', 'vegetable', 'sale', 'veggie', 'fruit', 'consume', 'u.s.', 'organic', 'consumer', 'desire', 'nutritious', 'chemically', 'laden', 'food', 'come', 'willingness', 'pay', 'shopper', 'pay', 'additional', 'organic', 'fresh', 'vegetable', 'willing', 'hand', 'cash', 'organic', 'poultry', 'study', 'hartman', 'group', 'food', 'beverage', 'research', 'firm', 'bellevue', 'washington', 'wonder', 'large', 'food', 'company', 'diversify', 'portfolio', 'include', 'organic', 'product', 'finally', 'conventional', 'food', 'beverage', 'industry', 'wake', 'niche', 'anymore', 'eat', 'share', 'hartman', 'group', 'senior', 'vice', 'president', 'shelley', 'balanko', 'campbell', 'soup', 'plum', 'organics', 'baby', 'food', 'line', 'bolthouse', 'farms', 'salad_dressing', 'juice', 'coca_cola', 'organic', 'honest', 'tea', 'hormel', 'lineup', 'include', 'organic', 'meat', 'label', 'applegate', 'farms', 'general', 'mills', 'organic', 'portfolio', 'grow', 'past', 'year', 'natural', 'organic', 'sale', '$', 'year', 'grow', 'double_digit', 'clip', 'minneapolis', 'base', 'cereal', 'maker', 'venture', 'organic', 'purchase', 'small', 'planet', 'foods', 'produce', 'variety', 'organic', 'food', 'ketchup', 'granola', 'bar', 'general', 'mills', 'acquire', 'annie', 'feature', 'fruit', 'snack', 'cereal', 'cookie', 'food', 'value', 'consumer', 'look', 'shift', 'try', 'responsive', 'carla', 'vernon', 'general', 'mills', 'vice', 'president', 'natural', 'organic', 'portfolio', 'grow', 'popularity', 'organic', 'food', 'open', 'door', 'price', 'cutter', 'sprouts_farmers', 'market', 'chain', 'instance', 'organic', 'alternative', 'foods', 'mainstream', 'supermarket', 'giant', 'cincinnati', 'base', 'kroger', 'operate', 'variety', 'chain', 'nation', 'dedicate', 'floor', 'shelf', 'space', 'organic', 'product', 'customer', 'migration', 'traditional', 'grocery', 'organic', 'good', 'come', 'low', 'price', 'shopper', 'organic', 'profit', 'margin', 'generally', 'high', 'conventional', 'grocery', 'product', 'available', 'retailer', 'pressure', 'gross', 'margin', 'profitability', 'parikh', 'available', 'supply', 'chain', 'impact']]\n"
     ]
    }
   ],
   "source": [
    "listlist = []\n",
    "for item in text: \n",
    "    splitted = item.split()\n",
    "    listlist.append(splitted)\n",
    "\n",
    "print(listlist)"
   ]
  },
  {
   "cell_type": "code",
   "execution_count": 9,
   "metadata": {},
   "outputs": [],
   "source": [
    "lda_vec = Vectorizer.load(\"vectorizer/ENED_lda_english_editorial.pkl\")\n",
    "lda = TopicModel.load('topic_models/lda/ENED_lda_english_editorial_articles_130.pkl')"
   ]
  },
  {
   "cell_type": "code",
   "execution_count": 10,
   "metadata": {},
   "outputs": [],
   "source": [
    "lda_document_term_matrix = lda_vec.get_document_token_matrix(texts)\n",
    "document_topic_matrix = lda.get_document_topic_matrix(lda_document_term_matrix)\n"
   ]
  },
  {
   "cell_type": "code",
   "execution_count": null,
   "metadata": {},
   "outputs": [],
   "source": []
  }
 ],
 "metadata": {
  "kernelspec": {
   "display_name": "Python 3",
   "language": "python",
   "name": "python3"
  },
  "language_info": {
   "codemirror_mode": {
    "name": "ipython",
    "version": 3
   },
   "file_extension": ".py",
   "mimetype": "text/x-python",
   "name": "python",
   "nbconvert_exporter": "python",
   "pygments_lexer": "ipython3",
   "version": "3.6.4"
  }
 },
 "nbformat": 4,
 "nbformat_minor": 2
}
