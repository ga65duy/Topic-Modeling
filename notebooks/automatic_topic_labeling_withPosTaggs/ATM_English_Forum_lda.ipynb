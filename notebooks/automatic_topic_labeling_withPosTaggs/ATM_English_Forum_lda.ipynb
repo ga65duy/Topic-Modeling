{
 "cells": [
  {
   "cell_type": "code",
   "execution_count": 1,
   "metadata": {},
   "outputs": [
    {
     "name": "stderr",
     "output_type": "stream",
     "text": [
      "C:\\Users\\Maria\\Anaconda3\\lib\\site-packages\\gensim\\utils.py:1197: UserWarning: detected Windows; aliasing chunkize to chunkize_serial\n",
      "  warnings.warn(\"detected Windows; aliasing chunkize to chunkize_serial\")\n",
      "INFO:summarizer.preprocessing.cleaner:'pattern' package not found; tag filters are not available for English\n"
     ]
    }
   ],
   "source": [
    "import sys\n",
    "sys.path.append('../..')\n",
    "import src.Automatic_Topic_Labeling.lable_topic as tl\n",
    "import src.Automatic_Topic_Labeling.helper_functions as hp\n",
    "import src.data.data_loader as dl\n",
    "from src.features.vectorizer import Vectorizer\n",
    "from src.models.topic_models import TopicModel"
   ]
  },
  {
   "cell_type": "code",
   "execution_count": 2,
   "metadata": {},
   "outputs": [
    {
     "name": "stdout",
     "output_type": "stream",
     "text": [
      "[[], [], [], ['-pron-', 'have', 'hang', 'skeptic', 'community', '-pron-', 'have', 'grow', 'dislike', 'organic', 'industry', '-pron-', 'understand', 'good', 'health', 'conventional', 'food', 'select', 'case', 'bad', '-pron-', 'understand', 'generally', 'bad', 'environment', 'conventional', 'food', 'and', 'but', '-pron-', 'read', 'hear', 'farmer', 'industry', 'insider', 'admit', 'fault', 'organic', 'farming', 'hasten', 'good', 'thing', 'way', 'like', 'try', 'placate', 'people', 'know', 'disagree', '-pron-', 'not', 'tend', 'elaborate', 'well', '-pron-', 'not', 'know', 'good', 'thing', 'maybe', '-pron-', 'negative', 'the', 'trouble', '-pron-', 'want', 'learn', 'upside', 'organic', 'farming', 'plenty', 'resource', 'ready', 'bullshit', 'have', 'come', 'fair', 'balance', 'topic', '-pron-', 'would', 'love', 'point', 'right', 'direction', 'not', 'upside', 'worth', 'care'], []]\n"
     ]
    }
   ],
   "source": [
    "language = \"english\"\n",
    "type = \"forum\"\n",
    "texttype = \"thread_texts\"\n",
    "model = \"lda\"\n",
    "pos = [('ADJD', 'NN'),]\n",
    "\n",
    "docsTuple = hp.load_taggs(language,type)\n",
    "\n",
    "text = hp.load_doc(language, type, texttype,\"tagged\")\n",
    "print(text[:5])"
   ]
  },
  {
   "cell_type": "code",
   "execution_count": 3,
   "metadata": {},
   "outputs": [
    {
     "name": "stderr",
     "output_type": "stream",
     "text": [
      "WARNING:root:After label filtering, there is nothing left.\n"
     ]
    },
    {
     "ename": "AssertionError",
     "evalue": "",
     "output_type": "error",
     "traceback": [
      "\u001b[1;31m---------------------------------------------------------------------------\u001b[0m",
      "\u001b[1;31mAssertionError\u001b[0m                            Traceback (most recent call last)",
      "\u001b[1;32m<ipython-input-3-05cf523a2fa4>\u001b[0m in \u001b[0;36m<module>\u001b[1;34m()\u001b[0m\n\u001b[0;32m      3\u001b[0m \u001b[1;33m\u001b[0m\u001b[0m\n\u001b[0;32m      4\u001b[0m \u001b[1;33m\u001b[0m\u001b[0m\n\u001b[1;32m----> 5\u001b[1;33m \u001b[0mlabels\u001b[0m \u001b[1;33m=\u001b[0m \u001b[0mtl\u001b[0m\u001b[1;33m.\u001b[0m\u001b[0mget_topic_lables\u001b[0m\u001b[1;33m(\u001b[0m\u001b[0mdocsTuple\u001b[0m\u001b[1;33m,\u001b[0m\u001b[0mtext\u001b[0m\u001b[1;33m,\u001b[0m\u001b[0mpos\u001b[0m\u001b[1;33m,\u001b[0m\u001b[0mmodel\u001b[0m\u001b[1;33m,\u001b[0m\u001b[0mvec\u001b[0m\u001b[1;33m,\u001b[0m\u001b[0mtm\u001b[0m\u001b[1;33m,\u001b[0m\u001b[0mn_top_words\u001b[0m \u001b[1;33m=\u001b[0m \u001b[1;36m15\u001b[0m\u001b[1;33m,\u001b[0m \u001b[0mn_cand_lables\u001b[0m \u001b[1;33m=\u001b[0m \u001b[1;36m100\u001b[0m\u001b[1;33m,\u001b[0m\u001b[0mlable_min_df\u001b[0m \u001b[1;33m=\u001b[0m \u001b[1;36m5\u001b[0m\u001b[1;33m,\u001b[0m \u001b[0mn_labels\u001b[0m \u001b[1;33m=\u001b[0m \u001b[1;36m8\u001b[0m\u001b[1;33m)\u001b[0m\u001b[1;33m\u001b[0m\u001b[0m\n\u001b[0m",
      "\u001b[1;32mD:\\Bachelorarbeit\\Projekte\\tm-maria\\src\\Automatic_Topic_Labeling\\lable_topic.py\u001b[0m in \u001b[0;36mget_topic_lables\u001b[1;34m(tagged_docs, docs, pos, model, vec, trained_tm, n_top_words, n_cand_lables, lable_min_df, n_labels)\u001b[0m\n\u001b[0;32m     51\u001b[0m                                \u001b[0mindex2label\u001b[0m\u001b[1;33m=\u001b[0m\u001b[0mpmi_cal\u001b[0m\u001b[1;33m.\u001b[0m\u001b[0mindex2label_\u001b[0m\u001b[1;33m,\u001b[0m\u001b[1;33m\u001b[0m\u001b[0m\n\u001b[0;32m     52\u001b[0m                                \u001b[0mlabel_models\u001b[0m\u001b[1;33m=\u001b[0m\u001b[1;32mNone\u001b[0m\u001b[1;33m,\u001b[0m\u001b[1;33m\u001b[0m\u001b[0m\n\u001b[1;32m---> 53\u001b[1;33m                                k = n_labels)\n\u001b[0m\u001b[0;32m     54\u001b[0m     \u001b[1;32mreturn\u001b[0m \u001b[0mlabels\u001b[0m\u001b[1;33m\u001b[0m\u001b[0m\n\u001b[0;32m     55\u001b[0m \u001b[1;33m\u001b[0m\u001b[0m\n",
      "\u001b[1;32mD:\\Bachelorarbeit\\Projekte\\tm-maria\\src\\Automatic_Topic_Labeling\\label_ranker.py\u001b[0m in \u001b[0;36mtop_k_labels\u001b[1;34m(self, topic_models, pmi_w2l, index2label, label_models, k)\u001b[0m\n\u001b[0;32m    212\u001b[0m         label_scores = self.combined_label_score(topic_models, pmi_w2l,\n\u001b[0;32m    213\u001b[0m                                                  \u001b[0mself\u001b[0m\u001b[1;33m.\u001b[0m\u001b[0m_discrimination\u001b[0m\u001b[1;33m,\u001b[0m\u001b[1;33m\u001b[0m\u001b[0m\n\u001b[1;32m--> 214\u001b[1;33m                                                  self._mu)\n\u001b[0m\u001b[0;32m    215\u001b[0m \u001b[1;33m\u001b[0m\u001b[0m\n\u001b[0;32m    216\u001b[0m         \u001b[1;31m# print(\"lable scores\")\u001b[0m\u001b[1;33m\u001b[0m\u001b[1;33m\u001b[0m\u001b[0m\n",
      "\u001b[1;32mD:\\Bachelorarbeit\\Projekte\\tm-maria\\src\\Automatic_Topic_Labeling\\label_ranker.py\u001b[0m in \u001b[0;36mcombined_label_score\u001b[1;34m(self, topic_models, pmi_w2l, use_discrimination, mu)\u001b[0m\n\u001b[0;32m    147\u001b[0m             \u001b[0mscore\u001b[0m \u001b[1;32mfor\u001b[0m \u001b[0meach\u001b[0m \u001b[0mtopic\u001b[0m \u001b[1;32mand\u001b[0m \u001b[0mlabel\u001b[0m \u001b[0mpair\u001b[0m\u001b[1;33m\u001b[0m\u001b[0m\n\u001b[0;32m    148\u001b[0m         \"\"\"\n\u001b[1;32m--> 149\u001b[1;33m         \u001b[0mrel_scores\u001b[0m \u001b[1;33m=\u001b[0m \u001b[0mself\u001b[0m\u001b[1;33m.\u001b[0m\u001b[0mlabel_relevance_score\u001b[0m\u001b[1;33m(\u001b[0m\u001b[0mtopic_models\u001b[0m\u001b[1;33m,\u001b[0m \u001b[0mpmi_w2l\u001b[0m\u001b[1;33m)\u001b[0m\u001b[1;33m\u001b[0m\u001b[0m\n\u001b[0m\u001b[0;32m    150\u001b[0m \u001b[1;33m\u001b[0m\u001b[0m\n\u001b[0;32m    151\u001b[0m         \u001b[1;32mif\u001b[0m \u001b[0muse_discrimination\u001b[0m\u001b[1;33m:\u001b[0m\u001b[1;33m\u001b[0m\u001b[0m\n",
      "\u001b[1;32mD:\\Bachelorarbeit\\Projekte\\tm-maria\\src\\Automatic_Topic_Labeling\\label_ranker.py\u001b[0m in \u001b[0;36mlabel_relevance_score\u001b[1;34m(self, topic_models, pmi_w2l)\u001b[0m\n\u001b[0;32m     52\u001b[0m \u001b[1;33m\u001b[0m\u001b[0m\n\u001b[0;32m     53\u001b[0m \u001b[1;33m\u001b[0m\u001b[0m\n\u001b[1;32m---> 54\u001b[1;33m         \u001b[1;32massert\u001b[0m \u001b[0mtopic_models\u001b[0m\u001b[1;33m.\u001b[0m\u001b[0mshape\u001b[0m\u001b[1;33m[\u001b[0m\u001b[1;36m1\u001b[0m\u001b[1;33m]\u001b[0m \u001b[1;33m==\u001b[0m \u001b[0mpmi_w2l\u001b[0m\u001b[1;33m.\u001b[0m\u001b[0mshape\u001b[0m\u001b[1;33m[\u001b[0m\u001b[1;36m0\u001b[0m\u001b[1;33m]\u001b[0m\u001b[1;33m\u001b[0m\u001b[0m\n\u001b[0m\u001b[0;32m     55\u001b[0m         return np.asarray(np.asmatrix(topic_models) *\n\u001b[0;32m     56\u001b[0m                           np.asmatrix(pmi_w2l))\n",
      "\u001b[1;31mAssertionError\u001b[0m: "
     ]
    }
   ],
   "source": [
    "vec = Vectorizer.load('tagged/vectorizer/lda_english_editorial_pos.pkl')\n",
    "tm = TopicModel.load('tagged/topic_models/lda/lda_english_editorial_tagged_articles_130.pkl')\n",
    "\n",
    "\n",
    "labels = tl.get_topic_lables(docsTuple,text,pos,model,vec,tm,n_top_words = 15, n_cand_lables = 100,lable_min_df = 5, n_labels = 8)"
   ]
  },
  {
   "cell_type": "code",
   "execution_count": null,
   "metadata": {},
   "outputs": [],
   "source": [
    "print(\"\\nTopical labels:\")\n",
    "print(\"-\" * 20)\n",
    "for i, labels in enumerate(labels):\n",
    "    print(u\"Topic {}: {}\\n\".format(\n",
    "        i,\n",
    "        ', '.join(map(lambda l: ' '.join(l), labels))\n",
    "    ))"
   ]
  }
 ],
 "metadata": {
  "kernelspec": {
   "display_name": "Python 3",
   "language": "python",
   "name": "python3"
  },
  "language_info": {
   "codemirror_mode": {
    "name": "ipython",
    "version": 3
   },
   "file_extension": ".py",
   "mimetype": "text/x-python",
   "name": "python",
   "nbconvert_exporter": "python",
   "pygments_lexer": "ipython3",
   "version": "3.6.4"
  }
 },
 "nbformat": 4,
 "nbformat_minor": 2
}
