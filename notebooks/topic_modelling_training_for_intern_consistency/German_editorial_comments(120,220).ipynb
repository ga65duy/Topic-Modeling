{
 "cells": [
  {
   "cell_type": "code",
   "execution_count": 1,
   "metadata": {},
   "outputs": [
    {
     "name": "stderr",
     "output_type": "stream",
     "text": [
      "C:\\Users\\Maria\\Anaconda3\\lib\\site-packages\\gensim\\utils.py:1197: UserWarning: detected Windows; aliasing chunkize to chunkize_serial\n",
      "  warnings.warn(\"detected Windows; aliasing chunkize to chunkize_serial\")\n",
      "INFO:summarizer.preprocessing.cleaner:'pattern' package not found; tag filters are not available for English\n"
     ]
    }
   ],
   "source": [
    "import sys\n",
    "sys.path.append('../../')\n",
    "import src.data.data_loader as dl\n",
    "import src.Automatic_Topic_Labeling.helper_functions as hp\n",
    "import src.Automatic_Topic_Labeling.lable_topic as tl\n",
    "from src.features.vectorizer import Vectorizer\n",
    "from src.models.topic_models import TopicModel\n",
    "import pandas as pd\n",
    "import sklearn.utils as skutil\n",
    "pd.set_option('display.max_rows', None)"
   ]
  },
  {
   "cell_type": "markdown",
   "metadata": {},
   "source": [
    "### Generate Topic Model with 120 topics"
   ]
  },
  {
   "cell_type": "code",
   "execution_count": 2,
   "metadata": {},
   "outputs": [],
   "source": [
    "# Data \n",
    "language = 'german'\n",
    "typex = 'editorial'\n",
    "\n",
    "# Vectorization\n",
    "min_df = 0.005\n",
    "max_df = 0.9\n",
    "\n",
    "# Topic Modeling\n",
    "algorithm = 'nmf'\n",
    "num_topics = 120\n",
    "\n",
    "train_percentage = 0.9"
   ]
  },
  {
   "cell_type": "code",
   "execution_count": 3,
   "metadata": {},
   "outputs": [],
   "source": [
    "data = dl.get_comments_by_type(language, typex)\n",
    "texts = data['comment_texts']"
   ]
  },
  {
   "cell_type": "code",
   "execution_count": 4,
   "metadata": {},
   "outputs": [],
   "source": [
    "vec = Vectorizer('tfidf', texts, min_df=min_df, max_df=max_df)\n",
    "vec.save('intern_consistency/vectorizer/{}_{}_{}.pkl'.format(algorithm, language, typex))\n",
    "\n",
    "document_term_matrix = vec.get_document_token_matrix(texts)\n",
    "id2token = vec.get_id2token_mapping()"
   ]
  },
  {
   "cell_type": "code",
   "execution_count": 5,
   "metadata": {},
   "outputs": [],
   "source": [
    "document_term_matrix = skutil.shuffle(document_term_matrix, random_state=1)\n",
    "num_docs, num_terms = document_term_matrix.shape\n",
    "train = int(num_docs * train_percentage)\n",
    "train_document_term_matrix = document_term_matrix[0:train, :]\n",
    "test_document_term_matrix = document_term_matrix[train: num_docs, :]"
   ]
  },
  {
   "cell_type": "code",
   "execution_count": 6,
   "metadata": {},
   "outputs": [
    {
     "name": "stderr",
     "output_type": "stream",
     "text": [
      "C:\\Users\\Maria\\Anaconda3\\lib\\site-packages\\sklearn\\decomposition\\nmf.py:1035: ConvergenceWarning: Maximum number of iteration 200 reached. Increase it to improve convergence.\n",
      "  \" improve convergence.\" % max_iter, ConvergenceWarning)\n"
     ]
    },
    {
     "name": "stdout",
     "output_type": "stream",
     "text": [
      "Epoch 10 reached after 2.949 seconds, error: 34.719119\n",
      "Epoch 20 reached after 5.568 seconds, error: 34.328172\n",
      "Epoch 30 reached after 8.097 seconds, error: 34.175346\n",
      "Epoch 40 reached after 10.574 seconds, error: 34.102276\n",
      "Epoch 50 reached after 13.095 seconds, error: 34.059459\n",
      "Epoch 60 reached after 15.616 seconds, error: 34.030778\n",
      "Epoch 70 reached after 18.271 seconds, error: 34.010967\n",
      "Epoch 80 reached after 20.772 seconds, error: 33.997804\n",
      "Epoch 90 reached after 23.222 seconds, error: 33.988996\n",
      "Epoch 100 reached after 25.757 seconds, error: 33.982774\n",
      "Epoch 110 reached after 28.432 seconds, error: 33.978010\n",
      "Epoch 120 reached after 31.145 seconds, error: 33.974571\n",
      "Epoch 130 reached after 34.065 seconds, error: 33.971617\n",
      "Epoch 140 reached after 36.816 seconds, error: 33.969135\n",
      "Epoch 150 reached after 39.566 seconds, error: 33.966957\n",
      "Epoch 160 reached after 42.508 seconds, error: 33.964754\n",
      "Epoch 170 reached after 45.724 seconds, error: 33.962906\n",
      "Epoch 180 reached after 48.893 seconds, error: 33.961485\n",
      "Epoch 190 reached after 52.362 seconds, error: 33.960313\n",
      "Epoch 200 reached after 55.903 seconds, error: 33.959400\n",
      "\n"
     ]
    }
   ],
   "source": [
    "model = TopicModel('nmf', num_topics, train_document_term_matrix, id2token)\n",
    "model.save('intern_consistency/topic_models/nmf/{}_{}_{}_comments_{}.pkl'.format(algorithm, language, typex,num_topics))"
   ]
  },
  {
   "cell_type": "markdown",
   "metadata": {},
   "source": [
    "### Generate Topic Model with 220 topics"
   ]
  },
  {
   "cell_type": "code",
   "execution_count": 7,
   "metadata": {},
   "outputs": [],
   "source": [
    "num_topics = 220"
   ]
  },
  {
   "cell_type": "code",
   "execution_count": 8,
   "metadata": {},
   "outputs": [],
   "source": [
    "document_term_matrix = skutil.shuffle(document_term_matrix, random_state=1)\n",
    "num_docs, num_terms = document_term_matrix.shape\n",
    "train = int(num_docs * train_percentage)\n",
    "train_document_term_matrix = document_term_matrix[0:train, :]\n",
    "test_document_term_matrix = document_term_matrix[train: num_docs, :]"
   ]
  },
  {
   "cell_type": "code",
   "execution_count": 9,
   "metadata": {},
   "outputs": [
    {
     "name": "stderr",
     "output_type": "stream",
     "text": [
      "C:\\Users\\Maria\\Anaconda3\\lib\\site-packages\\sklearn\\decomposition\\nmf.py:1035: ConvergenceWarning: Maximum number of iteration 200 reached. Increase it to improve convergence.\n",
      "  \" improve convergence.\" % max_iter, ConvergenceWarning)\n"
     ]
    },
    {
     "name": "stdout",
     "output_type": "stream",
     "text": [
      "Epoch 10 reached after 5.375 seconds, error: 33.046227\n",
      "Epoch 20 reached after 10.888 seconds, error: 32.489171\n",
      "Epoch 30 reached after 16.495 seconds, error: 32.293567\n",
      "Epoch 40 reached after 21.403 seconds, error: 32.204130\n",
      "Epoch 50 reached after 26.259 seconds, error: 32.147084\n",
      "Epoch 60 reached after 31.264 seconds, error: 32.115552\n",
      "Epoch 70 reached after 36.282 seconds, error: 32.096159\n",
      "Epoch 80 reached after 41.066 seconds, error: 32.082077\n",
      "Epoch 90 reached after 46.082 seconds, error: 32.071468\n",
      "Epoch 100 reached after 50.963 seconds, error: 32.062827\n",
      "Epoch 110 reached after 55.854 seconds, error: 32.054858\n",
      "Epoch 120 reached after 61.046 seconds, error: 32.048235\n",
      "Epoch 130 reached after 66.165 seconds, error: 32.042642\n",
      "Epoch 140 reached after 71.153 seconds, error: 32.037648\n",
      "Epoch 150 reached after 76.500 seconds, error: 32.033434\n",
      "Epoch 160 reached after 81.855 seconds, error: 32.030124\n",
      "Epoch 170 reached after 87.262 seconds, error: 32.027213\n",
      "Epoch 180 reached after 92.995 seconds, error: 32.024810\n",
      "Epoch 190 reached after 98.827 seconds, error: 32.022571\n",
      "Epoch 200 reached after 104.776 seconds, error: 32.020627\n",
      "\n"
     ]
    }
   ],
   "source": [
    "model = TopicModel('nmf', num_topics, train_document_term_matrix, id2token)\n",
    "model.save('intern_consistency/topic_models/nmf/{}_{}_{}_comments_{}.pkl'.format(algorithm, language, typex,num_topics))"
   ]
  }
 ],
 "metadata": {
  "kernelspec": {
   "display_name": "Python 3",
   "language": "python",
   "name": "python3"
  },
  "language_info": {
   "codemirror_mode": {
    "name": "ipython",
    "version": 3
   },
   "file_extension": ".py",
   "mimetype": "text/x-python",
   "name": "python",
   "nbconvert_exporter": "python",
   "pygments_lexer": "ipython3",
   "version": "3.6.4"
  }
 },
 "nbformat": 4,
 "nbformat_minor": 2
}
