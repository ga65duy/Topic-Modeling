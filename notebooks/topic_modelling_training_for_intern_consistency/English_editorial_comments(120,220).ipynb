{
 "cells": [
  {
   "cell_type": "code",
   "execution_count": 1,
   "metadata": {},
   "outputs": [
    {
     "name": "stderr",
     "output_type": "stream",
     "text": [
      "C:\\Users\\Maria\\Anaconda3\\lib\\site-packages\\gensim\\utils.py:1197: UserWarning: detected Windows; aliasing chunkize to chunkize_serial\n",
      "  warnings.warn(\"detected Windows; aliasing chunkize to chunkize_serial\")\n",
      "INFO:summarizer.preprocessing.cleaner:'pattern' package not found; tag filters are not available for English\n"
     ]
    }
   ],
   "source": [
    "import sys\n",
    "sys.path.append('../../')\n",
    "import src.data.data_loader as dl\n",
    "import src.Automatic_Topic_Labeling.helper_functions as hp\n",
    "import src.Automatic_Topic_Labeling.lable_topic as tl\n",
    "from src.features.vectorizer import Vectorizer\n",
    "from src.models.topic_models import TopicModel\n",
    "import pandas as pd\n",
    "import sklearn.utils as skutil\n",
    "pd.set_option('display.max_rows', None)"
   ]
  },
  {
   "cell_type": "markdown",
   "metadata": {},
   "source": [
    "### Generate Topic Model with 120 topics"
   ]
  },
  {
   "cell_type": "code",
   "execution_count": 2,
   "metadata": {},
   "outputs": [],
   "source": [
    "# Data \n",
    "language = 'english'\n",
    "typex = 'editorial'\n",
    "\n",
    "# Vectorization\n",
    "min_df = 0.005\n",
    "max_df = 0.9\n",
    "\n",
    "# Topic Modeling\n",
    "algorithm = 'nmf'\n",
    "num_topics = 120\n",
    "\n",
    "train_percentage = 0.9"
   ]
  },
  {
   "cell_type": "code",
   "execution_count": 3,
   "metadata": {},
   "outputs": [],
   "source": [
    "data = dl.get_comments_by_type(language, typex)\n",
    "texts = data['comment_texts']"
   ]
  },
  {
   "cell_type": "code",
   "execution_count": 4,
   "metadata": {},
   "outputs": [],
   "source": [
    "vec = Vectorizer('tfidf', texts, min_df=min_df, max_df=max_df)\n",
    "vec.save('intern_consistency/vectorizer/{}_{}_{}.pkl'.format(algorithm, language, typex))\n",
    "\n",
    "document_term_matrix = vec.get_document_token_matrix(texts)\n",
    "id2token = vec.get_id2token_mapping()"
   ]
  },
  {
   "cell_type": "code",
   "execution_count": 5,
   "metadata": {},
   "outputs": [],
   "source": [
    "document_term_matrix = skutil.shuffle(document_term_matrix, random_state=1)\n",
    "num_docs, num_terms = document_term_matrix.shape\n",
    "train = int(num_docs * train_percentage)\n",
    "train_document_term_matrix = document_term_matrix[0:train, :]\n",
    "test_document_term_matrix = document_term_matrix[train: num_docs, :]"
   ]
  },
  {
   "cell_type": "code",
   "execution_count": 6,
   "metadata": {},
   "outputs": [
    {
     "name": "stdout",
     "output_type": "stream",
     "text": [
      "Epoch 10 reached after 1.175 seconds, error: 13.105737\n",
      "Epoch 20 reached after 2.307 seconds, error: 12.750862\n",
      "Epoch 30 reached after 3.370 seconds, error: 12.646565\n",
      "Epoch 40 reached after 4.524 seconds, error: 12.595371\n",
      "Epoch 50 reached after 5.753 seconds, error: 12.567256\n",
      "Epoch 60 reached after 6.924 seconds, error: 12.547815\n",
      "Epoch 70 reached after 8.081 seconds, error: 12.534418\n",
      "Epoch 80 reached after 9.245 seconds, error: 12.525906\n",
      "Epoch 90 reached after 10.639 seconds, error: 12.519487\n",
      "Epoch 100 reached after 12.008 seconds, error: 12.512937\n",
      "Epoch 110 reached after 13.282 seconds, error: 12.506667\n",
      "Epoch 120 reached after 14.537 seconds, error: 12.500558\n",
      "Epoch 130 reached after 15.762 seconds, error: 12.496653\n",
      "Epoch 140 reached after 16.965 seconds, error: 12.494113\n",
      "Epoch 150 reached after 18.259 seconds, error: 12.492324\n",
      "Epoch 160 reached after 19.568 seconds, error: 12.490717\n",
      "Epoch 170 reached after 21.003 seconds, error: 12.489525\n",
      "Epoch 180 reached after 22.309 seconds, error: 12.488337\n",
      "Epoch 190 reached after 23.656 seconds, error: 12.487384\n",
      "Epoch 200 reached after 25.010 seconds, error: 12.486399\n",
      "\n"
     ]
    },
    {
     "name": "stderr",
     "output_type": "stream",
     "text": [
      "C:\\Users\\Maria\\Anaconda3\\lib\\site-packages\\sklearn\\decomposition\\nmf.py:1035: ConvergenceWarning: Maximum number of iteration 200 reached. Increase it to improve convergence.\n",
      "  \" improve convergence.\" % max_iter, ConvergenceWarning)\n"
     ]
    }
   ],
   "source": [
    "model = TopicModel('nmf', num_topics, train_document_term_matrix, id2token)\n",
    "model.save('intern_consistency/topic_models/nmf/{}_{}_{}_comments_{}.pkl'.format(algorithm, language, typex,num_topics))"
   ]
  },
  {
   "cell_type": "markdown",
   "metadata": {},
   "source": [
    "### Generate Topic Model with 220 topics"
   ]
  },
  {
   "cell_type": "code",
   "execution_count": 7,
   "metadata": {},
   "outputs": [],
   "source": [
    "num_topics = 220"
   ]
  },
  {
   "cell_type": "code",
   "execution_count": 8,
   "metadata": {},
   "outputs": [],
   "source": [
    "document_term_matrix = skutil.shuffle(document_term_matrix, random_state=1)\n",
    "num_docs, num_terms = document_term_matrix.shape\n",
    "train = int(num_docs * train_percentage)\n",
    "train_document_term_matrix = document_term_matrix[0:train, :]\n",
    "test_document_term_matrix = document_term_matrix[train: num_docs, :]"
   ]
  },
  {
   "cell_type": "code",
   "execution_count": 9,
   "metadata": {},
   "outputs": [
    {
     "name": "stderr",
     "output_type": "stream",
     "text": [
      "C:\\Users\\Maria\\Anaconda3\\lib\\site-packages\\sklearn\\decomposition\\nmf.py:1035: ConvergenceWarning: Maximum number of iteration 200 reached. Increase it to improve convergence.\n",
      "  \" improve convergence.\" % max_iter, ConvergenceWarning)\n"
     ]
    },
    {
     "name": "stdout",
     "output_type": "stream",
     "text": [
      "Epoch 10 reached after 2.308 seconds, error: 10.328861\n",
      "Epoch 20 reached after 4.416 seconds, error: 9.354001\n",
      "Epoch 30 reached after 6.474 seconds, error: 9.117742\n",
      "Epoch 40 reached after 8.714 seconds, error: 9.021186\n",
      "Epoch 50 reached after 11.012 seconds, error: 8.965395\n",
      "Epoch 60 reached after 13.170 seconds, error: 8.934537\n",
      "Epoch 70 reached after 15.458 seconds, error: 8.913441\n",
      "Epoch 80 reached after 17.667 seconds, error: 8.896951\n",
      "Epoch 90 reached after 19.956 seconds, error: 8.883524\n",
      "Epoch 100 reached after 22.256 seconds, error: 8.870112\n",
      "Epoch 110 reached after 24.883 seconds, error: 8.862288\n",
      "Epoch 120 reached after 27.435 seconds, error: 8.856309\n",
      "Epoch 130 reached after 30.257 seconds, error: 8.850549\n",
      "Epoch 140 reached after 32.954 seconds, error: 8.844626\n",
      "Epoch 150 reached after 35.730 seconds, error: 8.840291\n",
      "Epoch 160 reached after 38.574 seconds, error: 8.837132\n",
      "Epoch 170 reached after 41.621 seconds, error: 8.834382\n",
      "Epoch 180 reached after 44.646 seconds, error: 8.831884\n",
      "Epoch 190 reached after 47.735 seconds, error: 8.829792\n",
      "Epoch 200 reached after 50.824 seconds, error: 8.827762\n",
      "\n"
     ]
    }
   ],
   "source": [
    "model = TopicModel('nmf', num_topics, train_document_term_matrix, id2token)\n",
    "model.save('intern_consistency/topic_models/nmf/{}_{}_{}_comments_{}.pkl'.format(algorithm, language, typex,num_topics))"
   ]
  }
 ],
 "metadata": {
  "kernelspec": {
   "display_name": "Python 3",
   "language": "python",
   "name": "python3"
  },
  "language_info": {
   "codemirror_mode": {
    "name": "ipython",
    "version": 3
   },
   "file_extension": ".py",
   "mimetype": "text/x-python",
   "name": "python",
   "nbconvert_exporter": "python",
   "pygments_lexer": "ipython3",
   "version": "3.6.4"
  }
 },
 "nbformat": 4,
 "nbformat_minor": 2
}
