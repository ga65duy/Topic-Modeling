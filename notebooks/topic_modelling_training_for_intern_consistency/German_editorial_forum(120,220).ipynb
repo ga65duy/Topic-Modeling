{
 "cells": [
  {
   "cell_type": "code",
   "execution_count": 1,
   "metadata": {},
   "outputs": [
    {
     "name": "stderr",
     "output_type": "stream",
     "text": [
      "C:\\Users\\Maria\\Anaconda3\\lib\\site-packages\\gensim\\utils.py:1197: UserWarning: detected Windows; aliasing chunkize to chunkize_serial\n",
      "  warnings.warn(\"detected Windows; aliasing chunkize to chunkize_serial\")\n",
      "INFO:summarizer.preprocessing.cleaner:'pattern' package not found; tag filters are not available for English\n"
     ]
    }
   ],
   "source": [
    "import sys\n",
    "sys.path.append('../../')\n",
    "import src.data.data_loader as dl\n",
    "import src.Automatic_Topic_Labeling.helper_functions as hp\n",
    "import src.Automatic_Topic_Labeling.lable_topic as tl\n",
    "from src.features.vectorizer import Vectorizer\n",
    "from src.models.topic_models import TopicModel\n",
    "import pandas as pd\n",
    "import sklearn.utils as skutil\n",
    "pd.set_option('display.max_rows', None)"
   ]
  },
  {
   "cell_type": "markdown",
   "metadata": {},
   "source": [
    "### Generate Topic Model with 120 topics"
   ]
  },
  {
   "cell_type": "code",
   "execution_count": 2,
   "metadata": {},
   "outputs": [],
   "source": [
    "# Data \n",
    "language = 'german'\n",
    "typex = 'forum'\n",
    "\n",
    "# Vectorization\n",
    "min_df = 0.005\n",
    "max_df = 0.9\n",
    "\n",
    "# Topic Modeling\n",
    "algorithm = 'nmf'\n",
    "num_topics = 120\n",
    "\n",
    "train_percentage = 0.9"
   ]
  },
  {
   "cell_type": "code",
   "execution_count": 3,
   "metadata": {},
   "outputs": [],
   "source": [
    "data = dl.get_forum_threads_by_language(language, typex)\n",
    "texts = data['thread_texts']"
   ]
  },
  {
   "cell_type": "code",
   "execution_count": 4,
   "metadata": {},
   "outputs": [],
   "source": [
    "vec = Vectorizer('tfidf', texts, min_df=min_df, max_df=max_df)\n",
    "vec.save('intern_consistency/vectorizer/{}_{}_{}.pkl'.format(algorithm, language, typex))\n",
    "\n",
    "document_term_matrix = vec.get_document_token_matrix(texts)\n",
    "id2token = vec.get_id2token_mapping()"
   ]
  },
  {
   "cell_type": "code",
   "execution_count": 5,
   "metadata": {},
   "outputs": [],
   "source": [
    "document_term_matrix = skutil.shuffle(document_term_matrix, random_state=1)\n",
    "num_docs, num_terms = document_term_matrix.shape\n",
    "train = int(num_docs * train_percentage)\n",
    "train_document_term_matrix = document_term_matrix[0:train, :]\n",
    "test_document_term_matrix = document_term_matrix[train: num_docs, :]"
   ]
  },
  {
   "cell_type": "code",
   "execution_count": 6,
   "metadata": {},
   "outputs": [
    {
     "name": "stdout",
     "output_type": "stream",
     "text": [
      "Epoch 10 reached after 0.658 seconds, error: 19.062706\n",
      "Epoch 20 reached after 1.265 seconds, error: 18.701902\n",
      "Epoch 30 reached after 1.902 seconds, error: 18.581431\n",
      "Epoch 40 reached after 2.509 seconds, error: 18.525396\n",
      "Epoch 50 reached after 3.157 seconds, error: 18.495392\n",
      "Epoch 60 reached after 3.910 seconds, error: 18.475159\n",
      "Epoch 70 reached after 4.558 seconds, error: 18.461022\n",
      "Epoch 80 reached after 5.214 seconds, error: 18.450989\n",
      "Epoch 90 reached after 5.852 seconds, error: 18.442836\n",
      "Epoch 100 reached after 6.521 seconds, error: 18.436833\n",
      "Epoch 110 reached after 7.199 seconds, error: 18.431471\n",
      "Epoch 120 reached after 7.887 seconds, error: 18.427056\n",
      "Epoch 130 reached after 8.685 seconds, error: 18.423444\n",
      "Epoch 140 reached after 9.424 seconds, error: 18.419911\n",
      "Epoch 150 reached after 10.160 seconds, error: 18.417050\n",
      "Epoch 160 reached after 10.899 seconds, error: 18.414495\n",
      "Epoch 170 reached after 11.677 seconds, error: 18.412203\n",
      "Epoch 180 reached after 12.537 seconds, error: 18.410293\n",
      "Epoch 190 reached after 13.345 seconds, error: 18.408659\n",
      "Epoch 200 reached after 14.193 seconds, error: 18.407176\n",
      "\n"
     ]
    },
    {
     "name": "stderr",
     "output_type": "stream",
     "text": [
      "C:\\Users\\Maria\\Anaconda3\\lib\\site-packages\\sklearn\\decomposition\\nmf.py:1035: ConvergenceWarning: Maximum number of iteration 200 reached. Increase it to improve convergence.\n",
      "  \" improve convergence.\" % max_iter, ConvergenceWarning)\n"
     ]
    }
   ],
   "source": [
    "model = TopicModel('nmf', num_topics, train_document_term_matrix, id2token)\n",
    "model.save('intern_consistency/topic_models/nmf/{}_{}_{}_forum_{}.pkl'.format(algorithm, language, typex,num_topics))"
   ]
  },
  {
   "cell_type": "markdown",
   "metadata": {},
   "source": [
    "### Generate Topic Model with 220 topics"
   ]
  },
  {
   "cell_type": "code",
   "execution_count": 7,
   "metadata": {},
   "outputs": [],
   "source": [
    "num_topics = 220"
   ]
  },
  {
   "cell_type": "code",
   "execution_count": 8,
   "metadata": {},
   "outputs": [],
   "source": [
    "document_term_matrix = skutil.shuffle(document_term_matrix, random_state=1)\n",
    "num_docs, num_terms = document_term_matrix.shape\n",
    "train = int(num_docs * train_percentage)\n",
    "train_document_term_matrix = document_term_matrix[0:train, :]\n",
    "test_document_term_matrix = document_term_matrix[train: num_docs, :]"
   ]
  },
  {
   "cell_type": "code",
   "execution_count": 9,
   "metadata": {},
   "outputs": [
    {
     "name": "stdout",
     "output_type": "stream",
     "text": [
      "Epoch 10 reached after 1.422 seconds, error: 16.513091\n",
      "Epoch 20 reached after 2.668 seconds, error: 15.979901\n",
      "Epoch 30 reached after 4.091 seconds, error: 15.823017\n",
      "Epoch 40 reached after 5.376 seconds, error: 15.758073\n",
      "Epoch 50 reached after 6.619 seconds, error: 15.725185\n",
      "Epoch 60 reached after 7.866 seconds, error: 15.706722\n",
      "Epoch 70 reached after 9.279 seconds, error: 15.694368\n",
      "Epoch 80 reached after 10.717 seconds, error: 15.684379\n",
      "Epoch 90 reached after 12.245 seconds, error: 15.676883\n",
      "Epoch 100 reached after 13.833 seconds, error: 15.671229\n",
      "Epoch 110 reached after 15.490 seconds, error: 15.666056\n",
      "Epoch 120 reached after 17.177 seconds, error: 15.659673\n",
      "Epoch 130 reached after 19.004 seconds, error: 15.653990\n",
      "Epoch 140 reached after 20.750 seconds, error: 15.649852\n",
      "Epoch 150 reached after 22.428 seconds, error: 15.645754\n",
      "Epoch 160 reached after 24.330 seconds, error: 15.642799\n",
      "Epoch 170 reached after 26.078 seconds, error: 15.640460\n",
      "Epoch 180 reached after 27.827 seconds, error: 15.637203\n",
      "Epoch 190 reached after 29.670 seconds, error: 15.634616\n",
      "Epoch 200 reached after 31.528 seconds, error: 15.632543\n",
      "\n"
     ]
    },
    {
     "name": "stderr",
     "output_type": "stream",
     "text": [
      "C:\\Users\\Maria\\Anaconda3\\lib\\site-packages\\sklearn\\decomposition\\nmf.py:1035: ConvergenceWarning: Maximum number of iteration 200 reached. Increase it to improve convergence.\n",
      "  \" improve convergence.\" % max_iter, ConvergenceWarning)\n"
     ]
    }
   ],
   "source": [
    "model = TopicModel('nmf', num_topics, train_document_term_matrix, id2token)\n",
    "model.save('intern_consistency/topic_models/nmf/{}_{}_{}_forum_{}.pkl'.format(algorithm, language, typex,num_topics))"
   ]
  }
 ],
 "metadata": {
  "kernelspec": {
   "display_name": "Python 3",
   "language": "python",
   "name": "python3"
  },
  "language_info": {
   "codemirror_mode": {
    "name": "ipython",
    "version": 3
   },
   "file_extension": ".py",
   "mimetype": "text/x-python",
   "name": "python",
   "nbconvert_exporter": "python",
   "pygments_lexer": "ipython3",
   "version": "3.6.4"
  }
 },
 "nbformat": 4,
 "nbformat_minor": 2
}
